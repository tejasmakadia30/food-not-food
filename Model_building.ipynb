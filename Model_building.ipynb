{
  "nbformat": 4,
  "nbformat_minor": 0,
  "metadata": {
    "colab": {
      "name": "Model_building.ipynb",
      "provenance": [],
      "mount_file_id": "1tFGYZHzqioi-9Lvjic6lvag1gbvWhQLN",
      "authorship_tag": "ABX9TyP/qVkX6HJFenzmd26PtLzj"
    },
    "kernelspec": {
      "name": "python3",
      "display_name": "Python 3"
    },
    "language_info": {
      "name": "python"
    },
    "accelerator": "GPU",
    "widgets": {
      "application/vnd.jupyter.widget-state+json": {
        "70fa8609d1c646ff83eb49451eec598f": {
          "model_module": "@jupyter-widgets/controls",
          "model_name": "VBoxModel",
          "model_module_version": "1.5.0",
          "state": {
            "_view_name": "VBoxView",
            "_dom_classes": [],
            "_model_name": "VBoxModel",
            "_view_module": "@jupyter-widgets/controls",
            "_model_module_version": "1.5.0",
            "_view_count": null,
            "_view_module_version": "1.5.0",
            "box_style": "",
            "layout": "IPY_MODEL_39e0d7e24c1c496ca699be5cb07736b0",
            "_model_module": "@jupyter-widgets/controls",
            "children": [
              "IPY_MODEL_1c06afad10f941b19a1a16dea6d8fe39",
              "IPY_MODEL_39a6449dd1f54e87a5fd66a325440879"
            ]
          }
        },
        "39e0d7e24c1c496ca699be5cb07736b0": {
          "model_module": "@jupyter-widgets/base",
          "model_name": "LayoutModel",
          "model_module_version": "1.2.0",
          "state": {
            "_view_name": "LayoutView",
            "grid_template_rows": null,
            "right": null,
            "justify_content": null,
            "_view_module": "@jupyter-widgets/base",
            "overflow": null,
            "_model_module_version": "1.2.0",
            "_view_count": null,
            "flex_flow": null,
            "width": null,
            "min_width": null,
            "border": null,
            "align_items": null,
            "bottom": null,
            "_model_module": "@jupyter-widgets/base",
            "top": null,
            "grid_column": null,
            "overflow_y": null,
            "overflow_x": null,
            "grid_auto_flow": null,
            "grid_area": null,
            "grid_template_columns": null,
            "flex": null,
            "_model_name": "LayoutModel",
            "justify_items": null,
            "grid_row": null,
            "max_height": null,
            "align_content": null,
            "visibility": null,
            "align_self": null,
            "height": null,
            "min_height": null,
            "padding": null,
            "grid_auto_rows": null,
            "grid_gap": null,
            "max_width": null,
            "order": null,
            "_view_module_version": "1.2.0",
            "grid_template_areas": null,
            "object_position": null,
            "object_fit": null,
            "grid_auto_columns": null,
            "margin": null,
            "display": null,
            "left": null
          }
        },
        "1c06afad10f941b19a1a16dea6d8fe39": {
          "model_module": "@jupyter-widgets/controls",
          "model_name": "LabelModel",
          "model_module_version": "1.5.0",
          "state": {
            "_view_name": "LabelView",
            "style": "IPY_MODEL_5f6143595fff4d2480e3a58fdd864f1a",
            "_dom_classes": [],
            "description": "",
            "_model_name": "LabelModel",
            "placeholder": "​",
            "_view_module": "@jupyter-widgets/controls",
            "_model_module_version": "1.5.0",
            "value": " 0.93MB of 0.93MB uploaded (0.00MB deduped)\r",
            "_view_count": null,
            "_view_module_version": "1.5.0",
            "description_tooltip": null,
            "_model_module": "@jupyter-widgets/controls",
            "layout": "IPY_MODEL_a8eb6ad9685f48f3921b34c5ae623eb7"
          }
        },
        "39a6449dd1f54e87a5fd66a325440879": {
          "model_module": "@jupyter-widgets/controls",
          "model_name": "FloatProgressModel",
          "model_module_version": "1.5.0",
          "state": {
            "_view_name": "ProgressView",
            "style": "IPY_MODEL_b52a01399a0d4426a12df1f46751c3d1",
            "_dom_classes": [],
            "description": "",
            "_model_name": "FloatProgressModel",
            "bar_style": "",
            "max": 1,
            "_view_module": "@jupyter-widgets/controls",
            "_model_module_version": "1.5.0",
            "value": 1,
            "_view_count": null,
            "_view_module_version": "1.5.0",
            "orientation": "horizontal",
            "min": 0,
            "description_tooltip": null,
            "_model_module": "@jupyter-widgets/controls",
            "layout": "IPY_MODEL_70e3ad7268794a6cb079a8bcf9785a94"
          }
        },
        "5f6143595fff4d2480e3a58fdd864f1a": {
          "model_module": "@jupyter-widgets/controls",
          "model_name": "DescriptionStyleModel",
          "model_module_version": "1.5.0",
          "state": {
            "_view_name": "StyleView",
            "_model_name": "DescriptionStyleModel",
            "description_width": "",
            "_view_module": "@jupyter-widgets/base",
            "_model_module_version": "1.5.0",
            "_view_count": null,
            "_view_module_version": "1.2.0",
            "_model_module": "@jupyter-widgets/controls"
          }
        },
        "a8eb6ad9685f48f3921b34c5ae623eb7": {
          "model_module": "@jupyter-widgets/base",
          "model_name": "LayoutModel",
          "model_module_version": "1.2.0",
          "state": {
            "_view_name": "LayoutView",
            "grid_template_rows": null,
            "right": null,
            "justify_content": null,
            "_view_module": "@jupyter-widgets/base",
            "overflow": null,
            "_model_module_version": "1.2.0",
            "_view_count": null,
            "flex_flow": null,
            "width": null,
            "min_width": null,
            "border": null,
            "align_items": null,
            "bottom": null,
            "_model_module": "@jupyter-widgets/base",
            "top": null,
            "grid_column": null,
            "overflow_y": null,
            "overflow_x": null,
            "grid_auto_flow": null,
            "grid_area": null,
            "grid_template_columns": null,
            "flex": null,
            "_model_name": "LayoutModel",
            "justify_items": null,
            "grid_row": null,
            "max_height": null,
            "align_content": null,
            "visibility": null,
            "align_self": null,
            "height": null,
            "min_height": null,
            "padding": null,
            "grid_auto_rows": null,
            "grid_gap": null,
            "max_width": null,
            "order": null,
            "_view_module_version": "1.2.0",
            "grid_template_areas": null,
            "object_position": null,
            "object_fit": null,
            "grid_auto_columns": null,
            "margin": null,
            "display": null,
            "left": null
          }
        },
        "b52a01399a0d4426a12df1f46751c3d1": {
          "model_module": "@jupyter-widgets/controls",
          "model_name": "ProgressStyleModel",
          "model_module_version": "1.5.0",
          "state": {
            "_view_name": "StyleView",
            "_model_name": "ProgressStyleModel",
            "description_width": "",
            "_view_module": "@jupyter-widgets/base",
            "_model_module_version": "1.5.0",
            "_view_count": null,
            "_view_module_version": "1.2.0",
            "bar_color": null,
            "_model_module": "@jupyter-widgets/controls"
          }
        },
        "70e3ad7268794a6cb079a8bcf9785a94": {
          "model_module": "@jupyter-widgets/base",
          "model_name": "LayoutModel",
          "model_module_version": "1.2.0",
          "state": {
            "_view_name": "LayoutView",
            "grid_template_rows": null,
            "right": null,
            "justify_content": null,
            "_view_module": "@jupyter-widgets/base",
            "overflow": null,
            "_model_module_version": "1.2.0",
            "_view_count": null,
            "flex_flow": null,
            "width": null,
            "min_width": null,
            "border": null,
            "align_items": null,
            "bottom": null,
            "_model_module": "@jupyter-widgets/base",
            "top": null,
            "grid_column": null,
            "overflow_y": null,
            "overflow_x": null,
            "grid_auto_flow": null,
            "grid_area": null,
            "grid_template_columns": null,
            "flex": null,
            "_model_name": "LayoutModel",
            "justify_items": null,
            "grid_row": null,
            "max_height": null,
            "align_content": null,
            "visibility": null,
            "align_self": null,
            "height": null,
            "min_height": null,
            "padding": null,
            "grid_auto_rows": null,
            "grid_gap": null,
            "max_width": null,
            "order": null,
            "_view_module_version": "1.2.0",
            "grid_template_areas": null,
            "object_position": null,
            "object_fit": null,
            "grid_auto_columns": null,
            "margin": null,
            "display": null,
            "left": null
          }
        },
        "077b55ed4f2143a595efd86bce3fe95f": {
          "model_module": "@jupyter-widgets/controls",
          "model_name": "VBoxModel",
          "model_module_version": "1.5.0",
          "state": {
            "_view_name": "VBoxView",
            "_dom_classes": [],
            "_model_name": "VBoxModel",
            "_view_module": "@jupyter-widgets/controls",
            "_model_module_version": "1.5.0",
            "_view_count": null,
            "_view_module_version": "1.5.0",
            "box_style": "",
            "layout": "IPY_MODEL_90d494bc87e14264a063de99411f5d90",
            "_model_module": "@jupyter-widgets/controls",
            "children": [
              "IPY_MODEL_2f93c8438caa4d32ae598a81fe991fa2",
              "IPY_MODEL_d89f5e36ebe5448c82b765ab86710af0"
            ]
          }
        },
        "90d494bc87e14264a063de99411f5d90": {
          "model_module": "@jupyter-widgets/base",
          "model_name": "LayoutModel",
          "model_module_version": "1.2.0",
          "state": {
            "_view_name": "LayoutView",
            "grid_template_rows": null,
            "right": null,
            "justify_content": null,
            "_view_module": "@jupyter-widgets/base",
            "overflow": null,
            "_model_module_version": "1.2.0",
            "_view_count": null,
            "flex_flow": null,
            "width": null,
            "min_width": null,
            "border": null,
            "align_items": null,
            "bottom": null,
            "_model_module": "@jupyter-widgets/base",
            "top": null,
            "grid_column": null,
            "overflow_y": null,
            "overflow_x": null,
            "grid_auto_flow": null,
            "grid_area": null,
            "grid_template_columns": null,
            "flex": null,
            "_model_name": "LayoutModel",
            "justify_items": null,
            "grid_row": null,
            "max_height": null,
            "align_content": null,
            "visibility": null,
            "align_self": null,
            "height": null,
            "min_height": null,
            "padding": null,
            "grid_auto_rows": null,
            "grid_gap": null,
            "max_width": null,
            "order": null,
            "_view_module_version": "1.2.0",
            "grid_template_areas": null,
            "object_position": null,
            "object_fit": null,
            "grid_auto_columns": null,
            "margin": null,
            "display": null,
            "left": null
          }
        },
        "2f93c8438caa4d32ae598a81fe991fa2": {
          "model_module": "@jupyter-widgets/controls",
          "model_name": "LabelModel",
          "model_module_version": "1.5.0",
          "state": {
            "_view_name": "LabelView",
            "style": "IPY_MODEL_c9a0011a655a46a7936a44cd5ed180d7",
            "_dom_classes": [],
            "description": "",
            "_model_name": "LabelModel",
            "placeholder": "​",
            "_view_module": "@jupyter-widgets/controls",
            "_model_module_version": "1.5.0",
            "value": " 0.01MB of 0.01MB uploaded (0.00MB deduped)\r",
            "_view_count": null,
            "_view_module_version": "1.5.0",
            "description_tooltip": null,
            "_model_module": "@jupyter-widgets/controls",
            "layout": "IPY_MODEL_26a0f48eb8634b53ac07bd938b9d8c13"
          }
        },
        "d89f5e36ebe5448c82b765ab86710af0": {
          "model_module": "@jupyter-widgets/controls",
          "model_name": "FloatProgressModel",
          "model_module_version": "1.5.0",
          "state": {
            "_view_name": "ProgressView",
            "style": "IPY_MODEL_871d6ed0892f40dc825b68119a42fe2d",
            "_dom_classes": [],
            "description": "",
            "_model_name": "FloatProgressModel",
            "bar_style": "",
            "max": 1,
            "_view_module": "@jupyter-widgets/controls",
            "_model_module_version": "1.5.0",
            "value": 1,
            "_view_count": null,
            "_view_module_version": "1.5.0",
            "orientation": "horizontal",
            "min": 0,
            "description_tooltip": null,
            "_model_module": "@jupyter-widgets/controls",
            "layout": "IPY_MODEL_2f1ad911f01b4aa994937117637cb607"
          }
        },
        "c9a0011a655a46a7936a44cd5ed180d7": {
          "model_module": "@jupyter-widgets/controls",
          "model_name": "DescriptionStyleModel",
          "model_module_version": "1.5.0",
          "state": {
            "_view_name": "StyleView",
            "_model_name": "DescriptionStyleModel",
            "description_width": "",
            "_view_module": "@jupyter-widgets/base",
            "_model_module_version": "1.5.0",
            "_view_count": null,
            "_view_module_version": "1.2.0",
            "_model_module": "@jupyter-widgets/controls"
          }
        },
        "26a0f48eb8634b53ac07bd938b9d8c13": {
          "model_module": "@jupyter-widgets/base",
          "model_name": "LayoutModel",
          "model_module_version": "1.2.0",
          "state": {
            "_view_name": "LayoutView",
            "grid_template_rows": null,
            "right": null,
            "justify_content": null,
            "_view_module": "@jupyter-widgets/base",
            "overflow": null,
            "_model_module_version": "1.2.0",
            "_view_count": null,
            "flex_flow": null,
            "width": null,
            "min_width": null,
            "border": null,
            "align_items": null,
            "bottom": null,
            "_model_module": "@jupyter-widgets/base",
            "top": null,
            "grid_column": null,
            "overflow_y": null,
            "overflow_x": null,
            "grid_auto_flow": null,
            "grid_area": null,
            "grid_template_columns": null,
            "flex": null,
            "_model_name": "LayoutModel",
            "justify_items": null,
            "grid_row": null,
            "max_height": null,
            "align_content": null,
            "visibility": null,
            "align_self": null,
            "height": null,
            "min_height": null,
            "padding": null,
            "grid_auto_rows": null,
            "grid_gap": null,
            "max_width": null,
            "order": null,
            "_view_module_version": "1.2.0",
            "grid_template_areas": null,
            "object_position": null,
            "object_fit": null,
            "grid_auto_columns": null,
            "margin": null,
            "display": null,
            "left": null
          }
        },
        "871d6ed0892f40dc825b68119a42fe2d": {
          "model_module": "@jupyter-widgets/controls",
          "model_name": "ProgressStyleModel",
          "model_module_version": "1.5.0",
          "state": {
            "_view_name": "StyleView",
            "_model_name": "ProgressStyleModel",
            "description_width": "",
            "_view_module": "@jupyter-widgets/base",
            "_model_module_version": "1.5.0",
            "_view_count": null,
            "_view_module_version": "1.2.0",
            "bar_color": null,
            "_model_module": "@jupyter-widgets/controls"
          }
        },
        "2f1ad911f01b4aa994937117637cb607": {
          "model_module": "@jupyter-widgets/base",
          "model_name": "LayoutModel",
          "model_module_version": "1.2.0",
          "state": {
            "_view_name": "LayoutView",
            "grid_template_rows": null,
            "right": null,
            "justify_content": null,
            "_view_module": "@jupyter-widgets/base",
            "overflow": null,
            "_model_module_version": "1.2.0",
            "_view_count": null,
            "flex_flow": null,
            "width": null,
            "min_width": null,
            "border": null,
            "align_items": null,
            "bottom": null,
            "_model_module": "@jupyter-widgets/base",
            "top": null,
            "grid_column": null,
            "overflow_y": null,
            "overflow_x": null,
            "grid_auto_flow": null,
            "grid_area": null,
            "grid_template_columns": null,
            "flex": null,
            "_model_name": "LayoutModel",
            "justify_items": null,
            "grid_row": null,
            "max_height": null,
            "align_content": null,
            "visibility": null,
            "align_self": null,
            "height": null,
            "min_height": null,
            "padding": null,
            "grid_auto_rows": null,
            "grid_gap": null,
            "max_width": null,
            "order": null,
            "_view_module_version": "1.2.0",
            "grid_template_areas": null,
            "object_position": null,
            "object_fit": null,
            "grid_auto_columns": null,
            "margin": null,
            "display": null,
            "left": null
          }
        }
      }
    }
  },
  "cells": [
    {
      "cell_type": "code",
      "metadata": {
        "id": "0by4obEE1aCb"
      },
      "source": [
        "import tensorflow as tf\n"
      ],
      "execution_count": null,
      "outputs": []
    },
    {
      "cell_type": "code",
      "metadata": {
        "colab": {
          "base_uri": "https://localhost:8080/"
        },
        "id": "gq3-tC-q1tPZ",
        "outputId": "04f64f8a-0a1a-45fb-ce15-d9643015fb58"
      },
      "source": [
        "tf.config.list_physical_devices()"
      ],
      "execution_count": null,
      "outputs": [
        {
          "output_type": "execute_result",
          "data": {
            "text/plain": [
              "[PhysicalDevice(name='/physical_device:CPU:0', device_type='CPU'),\n",
              " PhysicalDevice(name='/physical_device:GPU:0', device_type='GPU')]"
            ]
          },
          "metadata": {},
          "execution_count": 2
        }
      ]
    },
    {
      "cell_type": "code",
      "metadata": {
        "id": "N0p-gbFc_i2V"
      },
      "source": [
        "# !cp -r /content/drive/MyDrive/ML/Food-Not-Food/images/imagenet_images/imagenet_images/atom_bomb  /content/drive/MyDrive/ML/Food-Not-Food/images/modal_test_images"
      ],
      "execution_count": null,
      "outputs": []
    },
    {
      "cell_type": "code",
      "metadata": {
        "colab": {
          "base_uri": "https://localhost:8080/"
        },
        "id": "Z6PHcl0_Cjcv",
        "outputId": "7577bdc5-b272-4c22-8d8e-9531cc5a0494"
      },
      "source": [
        "import os\n",
        "for dirs,sub_dirs, files in os.walk(\"/content/drive/MyDrive/ML/Food-Not-Food/images/modal_test_images\"):\n",
        "  print(dirs)\n",
        "  print(sub_dirs)\n",
        "  print(files)"
      ],
      "execution_count": null,
      "outputs": [
        {
          "output_type": "stream",
          "name": "stdout",
          "text": [
            "/content/drive/MyDrive/ML/Food-Not-Food/images/modal_test_images\n",
            "['bird', 'atom_bomb']\n",
            "[]\n",
            "/content/drive/MyDrive/ML/Food-Not-Food/images/modal_test_images/bird\n",
            "[]\n",
            "['2629966818_cff116c8e0.jpg', '172543629_1348b94a60.jpg', '2316755112_aaf81f1bec_o.jpg', '2665244628_1b96f661fb.jpg', '387329324_16c805ed30.jpg', '424963920_20beb6b91a.jpg', '2425290519_2a508fb03a.jpg', '1535999699_5aa329ae62.jpg', '2743499893_bda09587fd_o.jpg', '2595805254_df10dc7c8a.jpg', '2425909833_e251a97836.jpg', '94863900_a07816cab1.jpg', '1440471419_a188c2276c.jpg', '443738091_113fa2dd3a.jpg', '2308831578_1e99fe0272.jpg', '373783045_47ea5d9e5c.jpg', '2393254614_3b3594f4c4.jpg', '246106087_63f1a3ee04.jpg', '1552527337_6f819e3a3e.jpg', '244922475_5fb510f285.jpg', '850245972_3aa47add6e.jpg', '123135554_efa4b73df4.jpg', '99750039_ac8d305e94.jpg', '2496744379_954c9fd8da.jpg', '251850225_8774355449.jpg', '426166282_48e53510c7.jpg', '379660714_7aa46feb3b.jpg', '2790549725_ff34bd31b6.jpg', '2676904527_1f5febb5b4.jpg', '1040486717_6500c16ce2.jpg', '399352012_040fc5fb0b.jpg', '375445469_064d429363.jpg', '387558823_c26c46fe4d.jpg', '2726745791_4fb571690a.jpg', '1346173304_598a278dc9.jpg', '229985597_342744391b.jpg', '2479149926_a667d68142.jpg', '297707075_82701fd153.jpg', '473832397_e4d5d7ca86.jpg', '2009233818_43d01e043f.jpg', '12041632_1308a4e968.jpg', '1676749946_2847d53ed6.jpg', '2566827665_97ef5919e7.jpg', '426166255_a0b250bfcf.jpg', '377566194_d3e6b74713.jpg', '2588448211_e6ac815d41.jpg', '500985703_b8d1047ee1.jpg', '2635077894_3ee21c9a1a.jpg', '2385368260_56a188b778.jpg', '1799523732_f019a93d03.jpg', '1057480368_e4f1e7860c.jpg', '181183568_7fc10b0d44.jpg', '229147185_771882f156.jpg', '429232689_651615cc88.jpg']\n",
            "/content/drive/MyDrive/ML/Food-Not-Food/images/modal_test_images/atom_bomb\n",
            "[]\n",
            "['49800354_260df62ac3.jpg', '49800334_f1ec0b509e.jpg', '2627936623_070e3c3438_o.jpg', '2390762359_dee59bdb95.jpg', '451943379_c87909e9d6.jpg', '66570900_53974d3894.jpg', '2711024490_bbd7f0514b.jpg', '66569704_e9b4a20f49.jpg', '292323265_4ab498bca4.jpg', '491839085_81adeb8ce3.jpg', '2789292136_1e7a82194a.jpg', '2862423290_62bea79c98.jpg', '3078289414_84dcebe3bf.jpg', '2705616364_32d49c43cc.jpg', '118542548_765e05e018.jpg', '2519124828_5df1b8e535.jpg', '688474183_8ccee2bb03.jpg', '2253288471_f8cb16bda0.jpg', '519445038_794bd79376.jpg', '2381957105_e88d41b4bb_o.jpg', '1928795683_1d4f19131a.jpg', '1938560259_731bed807b.jpg', '1861148468_1a8408921b.jpg', '181188628_6e2912c157.jpg', '3010595252_fdfd87216c.jpg', '2183903256_b5160f6f0a.jpg', '494042500_5376c8a54a.jpg', '2569046367_1dfbe4b95c.jpg', '66569550_0474912a5f.jpg', '499360896_ac6a10499e.jpg', '536150728_d7d8b54cf7.jpg', '310609771_600496efc2.jpg', '66570340_8e91d2ff12.jpg', '2862423204_c5386d5cb0.jpg', '2500628519_19845baf76.jpg', '2601547715_d87643d69d.jpg', '499355094_69300f6930.jpg', '499463007_7efe2d79d9.jpg', '2344313901_5d5efb6a4c.jpg', '463098676_3c87797dea.jpg', '2373936401_42c5a4d4eb.jpg', '52843923_cb7f50de2f.jpg', '2880117505_0b3d839357.jpg', '3782837346_cf29e47100.jpg', '3299061572_a61a657ec1.jpg', '1027354662_1ecc4c5073.jpg', '128394907_f328f45782.jpg', '2450933623_18d7ba3d5c.jpg', '1720910261_0ca6a39033.jpg', '2046798276_3447aca29f.jpg', '66571814_a0c2d467ed.jpg', '1457501155_0235b3b728.jpg', '484671252_505911f91f.jpg', '2756095593_e29697517b.jpg', '293644207_b997436fb2.jpg']\n"
          ]
        }
      ]
    },
    {
      "cell_type": "markdown",
      "metadata": {
        "id": "-PSVaz9cGoaK"
      },
      "source": [
        "# Create train & test"
      ]
    },
    {
      "cell_type": "code",
      "metadata": {
        "id": "Snf6wFn1GJl_"
      },
      "source": [
        "#!mkdir /content/drive/MyDrive/ML/Food-Not-Food/images/modal_test_images/train\n",
        "#!mkdir /content/drive/MyDrive/ML/Food-Not-Food/images/modal_test_images/test"
      ],
      "execution_count": null,
      "outputs": []
    },
    {
      "cell_type": "code",
      "metadata": {
        "colab": {
          "base_uri": "https://localhost:8080/"
        },
        "id": "Z0XTHm24G5Hk",
        "outputId": "79853a81-f3f2-461c-cd9d-bc686334194c"
      },
      "source": [
        "atom_bomb = os.listdir(\"\")\n",
        "len(atom_bomb)"
      ],
      "execution_count": null,
      "outputs": [
        {
          "output_type": "execute_result",
          "data": {
            "text/plain": [
              "55"
            ]
          },
          "metadata": {},
          "execution_count": 15
        }
      ]
    },
    {
      "cell_type": "code",
      "metadata": {
        "id": "cPDFj3SMHkPn"
      },
      "source": [
        "import random\n",
        "def create_train_test_list(target_dir):\n",
        "  random.seed(44)\n",
        "  image_list = [os.path.join(target_dir, img_path) for img_path in os.listdir(target_dir)]\n",
        "  train_split = int(0.8 * len(image_list))\n",
        "  train_image_list = random.sample(image_list, train_split)\n",
        "  test_image_list = list(set(image_list).difference(set(train_image_list)))\n",
        "  return train_image_list, test_image_list\n",
        "\n",
        "\n"
      ],
      "execution_count": null,
      "outputs": []
    },
    {
      "cell_type": "code",
      "metadata": {
        "colab": {
          "base_uri": "https://localhost:8080/"
        },
        "id": "1X3EJhv9HTU9",
        "outputId": "be912c3e-a4cd-4df6-8a7d-6633cd3f1386"
      },
      "source": [
        "len(train_image_list), len(test_image_list)"
      ],
      "execution_count": null,
      "outputs": [
        {
          "output_type": "execute_result",
          "data": {
            "text/plain": [
              "(44, 11)"
            ]
          },
          "metadata": {},
          "execution_count": 62
        }
      ]
    },
    {
      "cell_type": "code",
      "metadata": {
        "id": "VMxguua7VBuo"
      },
      "source": [
        "def copy_images_to_file(img_path_list, target_dir, train = True):\n",
        "    if train:\n",
        "      split_dir = \"train\"\n",
        "      \n",
        "    else:\n",
        "      split_dir = \"test\"\n",
        "      \n",
        "      \n",
        "\n",
        "#copy images\n",
        "    for image_path in img_path_list:\n",
        "      image_file_name = os.path.split(image_path)[-1]\n",
        "      dest_path = os.path.join(target_dir, split_dir, image_dir, image_file_name)\n",
        "      print(f\"Copying: \\n{image_path} to \\n{dest_path}\")\n",
        "      copy2(image_path, dest_path)"
      ],
      "execution_count": null,
      "outputs": []
    },
    {
      "cell_type": "code",
      "metadata": {
        "colab": {
          "base_uri": "https://localhost:8080/"
        },
        "id": "aGfurbJ5Hhb1",
        "outputId": "7f152a80-b5b4-403e-cba4-a5c63a57dcb8"
      },
      "source": [
        "from shutil import copy2\n",
        "data_dir = \"/content/drive/MyDrive/ML/Food-Not-Food/images/modal_test_images\"\n",
        "target_dir = \"/content/drive/MyDrive/ML/Food-Not-Food/images/modal_test_image_split\"\n",
        "for image_dir in os.listdir(data_dir):\n",
        "  #print(image_dir)\n",
        "  for split_dir in [\"train\", \"test\"]:\n",
        "    os.makedirs(os.path.join(target_dir, split_dir, image_dir), exist_ok=True)\n",
        "  #print(os.path.join(data_dir + '/' + image_dir))\n",
        "  train_image_list, test_image_list = create_train_test_list(os.path.join(data_dir +'/'+ image_dir))\n",
        "  #print(len(train_image_list), len(test_image_list))\n",
        "  #print(train_image_list[:6])\n",
        "\n",
        "  copy_images_to_file(img_path_list = train_image_list,\n",
        "                      target_dir = target_dir,\n",
        "                      train = True)\n",
        "  \n",
        "  copy_images_to_file(img_path_list = test_image_list,\n",
        "                      target_dir = target_dir,\n",
        "                      train = False)\n",
        "\n",
        "  # copy train images\n",
        "  \n",
        "\n",
        "  \n",
        "#"
      ],
      "execution_count": null,
      "outputs": [
        {
          "output_type": "stream",
          "name": "stdout",
          "text": [
            "Copying: \n",
            "/content/drive/MyDrive/ML/Food-Not-Food/images/modal_test_images/bird/379660714_7aa46feb3b.jpg to \n",
            "/content/drive/MyDrive/ML/Food-Not-Food/images/modal_test_image_split/train/bird/379660714_7aa46feb3b.jpg\n",
            "Copying: \n",
            "/content/drive/MyDrive/ML/Food-Not-Food/images/modal_test_images/bird/2726745791_4fb571690a.jpg to \n",
            "/content/drive/MyDrive/ML/Food-Not-Food/images/modal_test_image_split/train/bird/2726745791_4fb571690a.jpg\n",
            "Copying: \n",
            "/content/drive/MyDrive/ML/Food-Not-Food/images/modal_test_images/bird/1346173304_598a278dc9.jpg to \n",
            "/content/drive/MyDrive/ML/Food-Not-Food/images/modal_test_image_split/train/bird/1346173304_598a278dc9.jpg\n",
            "Copying: \n",
            "/content/drive/MyDrive/ML/Food-Not-Food/images/modal_test_images/bird/377566194_d3e6b74713.jpg to \n",
            "/content/drive/MyDrive/ML/Food-Not-Food/images/modal_test_image_split/train/bird/377566194_d3e6b74713.jpg\n",
            "Copying: \n",
            "/content/drive/MyDrive/ML/Food-Not-Food/images/modal_test_images/bird/1535999699_5aa329ae62.jpg to \n",
            "/content/drive/MyDrive/ML/Food-Not-Food/images/modal_test_image_split/train/bird/1535999699_5aa329ae62.jpg\n",
            "Copying: \n",
            "/content/drive/MyDrive/ML/Food-Not-Food/images/modal_test_images/bird/94863900_a07816cab1.jpg to \n",
            "/content/drive/MyDrive/ML/Food-Not-Food/images/modal_test_image_split/train/bird/94863900_a07816cab1.jpg\n",
            "Copying: \n",
            "/content/drive/MyDrive/ML/Food-Not-Food/images/modal_test_images/bird/251850225_8774355449.jpg to \n",
            "/content/drive/MyDrive/ML/Food-Not-Food/images/modal_test_image_split/train/bird/251850225_8774355449.jpg\n",
            "Copying: \n",
            "/content/drive/MyDrive/ML/Food-Not-Food/images/modal_test_images/bird/2308831578_1e99fe0272.jpg to \n",
            "/content/drive/MyDrive/ML/Food-Not-Food/images/modal_test_image_split/train/bird/2308831578_1e99fe0272.jpg\n",
            "Copying: \n",
            "/content/drive/MyDrive/ML/Food-Not-Food/images/modal_test_images/bird/1552527337_6f819e3a3e.jpg to \n",
            "/content/drive/MyDrive/ML/Food-Not-Food/images/modal_test_image_split/train/bird/1552527337_6f819e3a3e.jpg\n",
            "Copying: \n",
            "/content/drive/MyDrive/ML/Food-Not-Food/images/modal_test_images/bird/172543629_1348b94a60.jpg to \n",
            "/content/drive/MyDrive/ML/Food-Not-Food/images/modal_test_image_split/train/bird/172543629_1348b94a60.jpg\n",
            "Copying: \n",
            "/content/drive/MyDrive/ML/Food-Not-Food/images/modal_test_images/bird/500985703_b8d1047ee1.jpg to \n",
            "/content/drive/MyDrive/ML/Food-Not-Food/images/modal_test_image_split/train/bird/500985703_b8d1047ee1.jpg\n",
            "Copying: \n",
            "/content/drive/MyDrive/ML/Food-Not-Food/images/modal_test_images/bird/1799523732_f019a93d03.jpg to \n",
            "/content/drive/MyDrive/ML/Food-Not-Food/images/modal_test_image_split/train/bird/1799523732_f019a93d03.jpg\n",
            "Copying: \n",
            "/content/drive/MyDrive/ML/Food-Not-Food/images/modal_test_images/bird/2479149926_a667d68142.jpg to \n",
            "/content/drive/MyDrive/ML/Food-Not-Food/images/modal_test_image_split/train/bird/2479149926_a667d68142.jpg\n",
            "Copying: \n",
            "/content/drive/MyDrive/ML/Food-Not-Food/images/modal_test_images/bird/2629966818_cff116c8e0.jpg to \n",
            "/content/drive/MyDrive/ML/Food-Not-Food/images/modal_test_image_split/train/bird/2629966818_cff116c8e0.jpg\n",
            "Copying: \n",
            "/content/drive/MyDrive/ML/Food-Not-Food/images/modal_test_images/bird/2425290519_2a508fb03a.jpg to \n",
            "/content/drive/MyDrive/ML/Food-Not-Food/images/modal_test_image_split/train/bird/2425290519_2a508fb03a.jpg\n",
            "Copying: \n",
            "/content/drive/MyDrive/ML/Food-Not-Food/images/modal_test_images/bird/2425909833_e251a97836.jpg to \n",
            "/content/drive/MyDrive/ML/Food-Not-Food/images/modal_test_image_split/train/bird/2425909833_e251a97836.jpg\n",
            "Copying: \n",
            "/content/drive/MyDrive/ML/Food-Not-Food/images/modal_test_images/bird/387558823_c26c46fe4d.jpg to \n",
            "/content/drive/MyDrive/ML/Food-Not-Food/images/modal_test_image_split/train/bird/387558823_c26c46fe4d.jpg\n",
            "Copying: \n",
            "/content/drive/MyDrive/ML/Food-Not-Food/images/modal_test_images/bird/244922475_5fb510f285.jpg to \n",
            "/content/drive/MyDrive/ML/Food-Not-Food/images/modal_test_image_split/train/bird/244922475_5fb510f285.jpg\n",
            "Copying: \n",
            "/content/drive/MyDrive/ML/Food-Not-Food/images/modal_test_images/bird/2635077894_3ee21c9a1a.jpg to \n",
            "/content/drive/MyDrive/ML/Food-Not-Food/images/modal_test_image_split/train/bird/2635077894_3ee21c9a1a.jpg\n",
            "Copying: \n",
            "/content/drive/MyDrive/ML/Food-Not-Food/images/modal_test_images/bird/426166282_48e53510c7.jpg to \n",
            "/content/drive/MyDrive/ML/Food-Not-Food/images/modal_test_image_split/train/bird/426166282_48e53510c7.jpg\n",
            "Copying: \n",
            "/content/drive/MyDrive/ML/Food-Not-Food/images/modal_test_images/bird/850245972_3aa47add6e.jpg to \n",
            "/content/drive/MyDrive/ML/Food-Not-Food/images/modal_test_image_split/train/bird/850245972_3aa47add6e.jpg\n",
            "Copying: \n",
            "/content/drive/MyDrive/ML/Food-Not-Food/images/modal_test_images/bird/99750039_ac8d305e94.jpg to \n",
            "/content/drive/MyDrive/ML/Food-Not-Food/images/modal_test_image_split/train/bird/99750039_ac8d305e94.jpg\n",
            "Copying: \n",
            "/content/drive/MyDrive/ML/Food-Not-Food/images/modal_test_images/bird/387329324_16c805ed30.jpg to \n",
            "/content/drive/MyDrive/ML/Food-Not-Food/images/modal_test_image_split/train/bird/387329324_16c805ed30.jpg\n",
            "Copying: \n",
            "/content/drive/MyDrive/ML/Food-Not-Food/images/modal_test_images/bird/473832397_e4d5d7ca86.jpg to \n",
            "/content/drive/MyDrive/ML/Food-Not-Food/images/modal_test_image_split/train/bird/473832397_e4d5d7ca86.jpg\n",
            "Copying: \n",
            "/content/drive/MyDrive/ML/Food-Not-Food/images/modal_test_images/bird/429232689_651615cc88.jpg to \n",
            "/content/drive/MyDrive/ML/Food-Not-Food/images/modal_test_image_split/train/bird/429232689_651615cc88.jpg\n",
            "Copying: \n",
            "/content/drive/MyDrive/ML/Food-Not-Food/images/modal_test_images/bird/2595805254_df10dc7c8a.jpg to \n",
            "/content/drive/MyDrive/ML/Food-Not-Food/images/modal_test_image_split/train/bird/2595805254_df10dc7c8a.jpg\n",
            "Copying: \n",
            "/content/drive/MyDrive/ML/Food-Not-Food/images/modal_test_images/bird/1676749946_2847d53ed6.jpg to \n",
            "/content/drive/MyDrive/ML/Food-Not-Food/images/modal_test_image_split/train/bird/1676749946_2847d53ed6.jpg\n",
            "Copying: \n",
            "/content/drive/MyDrive/ML/Food-Not-Food/images/modal_test_images/bird/424963920_20beb6b91a.jpg to \n",
            "/content/drive/MyDrive/ML/Food-Not-Food/images/modal_test_image_split/train/bird/424963920_20beb6b91a.jpg\n",
            "Copying: \n",
            "/content/drive/MyDrive/ML/Food-Not-Food/images/modal_test_images/bird/2665244628_1b96f661fb.jpg to \n",
            "/content/drive/MyDrive/ML/Food-Not-Food/images/modal_test_image_split/train/bird/2665244628_1b96f661fb.jpg\n",
            "Copying: \n",
            "/content/drive/MyDrive/ML/Food-Not-Food/images/modal_test_images/bird/2393254614_3b3594f4c4.jpg to \n",
            "/content/drive/MyDrive/ML/Food-Not-Food/images/modal_test_image_split/train/bird/2393254614_3b3594f4c4.jpg\n",
            "Copying: \n",
            "/content/drive/MyDrive/ML/Food-Not-Food/images/modal_test_images/bird/2316755112_aaf81f1bec_o.jpg to \n",
            "/content/drive/MyDrive/ML/Food-Not-Food/images/modal_test_image_split/train/bird/2316755112_aaf81f1bec_o.jpg\n",
            "Copying: \n",
            "/content/drive/MyDrive/ML/Food-Not-Food/images/modal_test_images/bird/2588448211_e6ac815d41.jpg to \n",
            "/content/drive/MyDrive/ML/Food-Not-Food/images/modal_test_image_split/train/bird/2588448211_e6ac815d41.jpg\n",
            "Copying: \n",
            "/content/drive/MyDrive/ML/Food-Not-Food/images/modal_test_images/bird/181183568_7fc10b0d44.jpg to \n",
            "/content/drive/MyDrive/ML/Food-Not-Food/images/modal_test_image_split/train/bird/181183568_7fc10b0d44.jpg\n",
            "Copying: \n",
            "/content/drive/MyDrive/ML/Food-Not-Food/images/modal_test_images/bird/2743499893_bda09587fd_o.jpg to \n",
            "/content/drive/MyDrive/ML/Food-Not-Food/images/modal_test_image_split/train/bird/2743499893_bda09587fd_o.jpg\n",
            "Copying: \n",
            "/content/drive/MyDrive/ML/Food-Not-Food/images/modal_test_images/bird/399352012_040fc5fb0b.jpg to \n",
            "/content/drive/MyDrive/ML/Food-Not-Food/images/modal_test_image_split/train/bird/399352012_040fc5fb0b.jpg\n",
            "Copying: \n",
            "/content/drive/MyDrive/ML/Food-Not-Food/images/modal_test_images/bird/123135554_efa4b73df4.jpg to \n",
            "/content/drive/MyDrive/ML/Food-Not-Food/images/modal_test_image_split/train/bird/123135554_efa4b73df4.jpg\n",
            "Copying: \n",
            "/content/drive/MyDrive/ML/Food-Not-Food/images/modal_test_images/bird/2676904527_1f5febb5b4.jpg to \n",
            "/content/drive/MyDrive/ML/Food-Not-Food/images/modal_test_image_split/train/bird/2676904527_1f5febb5b4.jpg\n",
            "Copying: \n",
            "/content/drive/MyDrive/ML/Food-Not-Food/images/modal_test_images/bird/1057480368_e4f1e7860c.jpg to \n",
            "/content/drive/MyDrive/ML/Food-Not-Food/images/modal_test_image_split/train/bird/1057480368_e4f1e7860c.jpg\n",
            "Copying: \n",
            "/content/drive/MyDrive/ML/Food-Not-Food/images/modal_test_images/bird/2385368260_56a188b778.jpg to \n",
            "/content/drive/MyDrive/ML/Food-Not-Food/images/modal_test_image_split/train/bird/2385368260_56a188b778.jpg\n",
            "Copying: \n",
            "/content/drive/MyDrive/ML/Food-Not-Food/images/modal_test_images/bird/2009233818_43d01e043f.jpg to \n",
            "/content/drive/MyDrive/ML/Food-Not-Food/images/modal_test_image_split/train/bird/2009233818_43d01e043f.jpg\n",
            "Copying: \n",
            "/content/drive/MyDrive/ML/Food-Not-Food/images/modal_test_images/bird/229985597_342744391b.jpg to \n",
            "/content/drive/MyDrive/ML/Food-Not-Food/images/modal_test_image_split/train/bird/229985597_342744391b.jpg\n",
            "Copying: \n",
            "/content/drive/MyDrive/ML/Food-Not-Food/images/modal_test_images/bird/2566827665_97ef5919e7.jpg to \n",
            "/content/drive/MyDrive/ML/Food-Not-Food/images/modal_test_image_split/train/bird/2566827665_97ef5919e7.jpg\n",
            "Copying: \n",
            "/content/drive/MyDrive/ML/Food-Not-Food/images/modal_test_images/bird/1440471419_a188c2276c.jpg to \n",
            "/content/drive/MyDrive/ML/Food-Not-Food/images/modal_test_image_split/train/bird/1440471419_a188c2276c.jpg\n",
            "Copying: \n",
            "/content/drive/MyDrive/ML/Food-Not-Food/images/modal_test_images/bird/2496744379_954c9fd8da.jpg to \n",
            "/content/drive/MyDrive/ML/Food-Not-Food/images/modal_test_image_split/test/bird/2496744379_954c9fd8da.jpg\n",
            "Copying: \n",
            "/content/drive/MyDrive/ML/Food-Not-Food/images/modal_test_images/bird/2790549725_ff34bd31b6.jpg to \n",
            "/content/drive/MyDrive/ML/Food-Not-Food/images/modal_test_image_split/test/bird/2790549725_ff34bd31b6.jpg\n",
            "Copying: \n",
            "/content/drive/MyDrive/ML/Food-Not-Food/images/modal_test_images/bird/246106087_63f1a3ee04.jpg to \n",
            "/content/drive/MyDrive/ML/Food-Not-Food/images/modal_test_image_split/test/bird/246106087_63f1a3ee04.jpg\n",
            "Copying: \n",
            "/content/drive/MyDrive/ML/Food-Not-Food/images/modal_test_images/bird/375445469_064d429363.jpg to \n",
            "/content/drive/MyDrive/ML/Food-Not-Food/images/modal_test_image_split/test/bird/375445469_064d429363.jpg\n",
            "Copying: \n",
            "/content/drive/MyDrive/ML/Food-Not-Food/images/modal_test_images/bird/1040486717_6500c16ce2.jpg to \n",
            "/content/drive/MyDrive/ML/Food-Not-Food/images/modal_test_image_split/test/bird/1040486717_6500c16ce2.jpg\n",
            "Copying: \n",
            "/content/drive/MyDrive/ML/Food-Not-Food/images/modal_test_images/bird/443738091_113fa2dd3a.jpg to \n",
            "/content/drive/MyDrive/ML/Food-Not-Food/images/modal_test_image_split/test/bird/443738091_113fa2dd3a.jpg\n",
            "Copying: \n",
            "/content/drive/MyDrive/ML/Food-Not-Food/images/modal_test_images/bird/229147185_771882f156.jpg to \n",
            "/content/drive/MyDrive/ML/Food-Not-Food/images/modal_test_image_split/test/bird/229147185_771882f156.jpg\n",
            "Copying: \n",
            "/content/drive/MyDrive/ML/Food-Not-Food/images/modal_test_images/bird/297707075_82701fd153.jpg to \n",
            "/content/drive/MyDrive/ML/Food-Not-Food/images/modal_test_image_split/test/bird/297707075_82701fd153.jpg\n",
            "Copying: \n",
            "/content/drive/MyDrive/ML/Food-Not-Food/images/modal_test_images/bird/373783045_47ea5d9e5c.jpg to \n",
            "/content/drive/MyDrive/ML/Food-Not-Food/images/modal_test_image_split/test/bird/373783045_47ea5d9e5c.jpg\n",
            "Copying: \n",
            "/content/drive/MyDrive/ML/Food-Not-Food/images/modal_test_images/bird/12041632_1308a4e968.jpg to \n",
            "/content/drive/MyDrive/ML/Food-Not-Food/images/modal_test_image_split/test/bird/12041632_1308a4e968.jpg\n",
            "Copying: \n",
            "/content/drive/MyDrive/ML/Food-Not-Food/images/modal_test_images/bird/426166255_a0b250bfcf.jpg to \n",
            "/content/drive/MyDrive/ML/Food-Not-Food/images/modal_test_image_split/test/bird/426166255_a0b250bfcf.jpg\n",
            "Copying: \n",
            "/content/drive/MyDrive/ML/Food-Not-Food/images/modal_test_images/atom_bomb/494042500_5376c8a54a.jpg to \n",
            "/content/drive/MyDrive/ML/Food-Not-Food/images/modal_test_image_split/train/atom_bomb/494042500_5376c8a54a.jpg\n",
            "Copying: \n",
            "/content/drive/MyDrive/ML/Food-Not-Food/images/modal_test_images/atom_bomb/2862423204_c5386d5cb0.jpg to \n",
            "/content/drive/MyDrive/ML/Food-Not-Food/images/modal_test_image_split/train/atom_bomb/2862423204_c5386d5cb0.jpg\n",
            "Copying: \n",
            "/content/drive/MyDrive/ML/Food-Not-Food/images/modal_test_images/atom_bomb/2500628519_19845baf76.jpg to \n",
            "/content/drive/MyDrive/ML/Food-Not-Food/images/modal_test_image_split/train/atom_bomb/2500628519_19845baf76.jpg\n",
            "Copying: \n",
            "/content/drive/MyDrive/ML/Food-Not-Food/images/modal_test_images/atom_bomb/3299061572_a61a657ec1.jpg to \n",
            "/content/drive/MyDrive/ML/Food-Not-Food/images/modal_test_image_split/train/atom_bomb/3299061572_a61a657ec1.jpg\n",
            "Copying: \n",
            "/content/drive/MyDrive/ML/Food-Not-Food/images/modal_test_images/atom_bomb/66569704_e9b4a20f49.jpg to \n",
            "/content/drive/MyDrive/ML/Food-Not-Food/images/modal_test_image_split/train/atom_bomb/66569704_e9b4a20f49.jpg\n",
            "Copying: \n",
            "/content/drive/MyDrive/ML/Food-Not-Food/images/modal_test_images/atom_bomb/2862423290_62bea79c98.jpg to \n",
            "/content/drive/MyDrive/ML/Food-Not-Food/images/modal_test_image_split/train/atom_bomb/2862423290_62bea79c98.jpg\n",
            "Copying: \n",
            "/content/drive/MyDrive/ML/Food-Not-Food/images/modal_test_images/atom_bomb/3010595252_fdfd87216c.jpg to \n",
            "/content/drive/MyDrive/ML/Food-Not-Food/images/modal_test_image_split/train/atom_bomb/3010595252_fdfd87216c.jpg\n",
            "Copying: \n",
            "/content/drive/MyDrive/ML/Food-Not-Food/images/modal_test_images/atom_bomb/118542548_765e05e018.jpg to \n",
            "/content/drive/MyDrive/ML/Food-Not-Food/images/modal_test_image_split/train/atom_bomb/118542548_765e05e018.jpg\n",
            "Copying: \n",
            "/content/drive/MyDrive/ML/Food-Not-Food/images/modal_test_images/atom_bomb/519445038_794bd79376.jpg to \n",
            "/content/drive/MyDrive/ML/Food-Not-Food/images/modal_test_image_split/train/atom_bomb/519445038_794bd79376.jpg\n",
            "Copying: \n",
            "/content/drive/MyDrive/ML/Food-Not-Food/images/modal_test_images/atom_bomb/49800334_f1ec0b509e.jpg to \n",
            "/content/drive/MyDrive/ML/Food-Not-Food/images/modal_test_image_split/train/atom_bomb/49800334_f1ec0b509e.jpg\n",
            "Copying: \n",
            "/content/drive/MyDrive/ML/Food-Not-Food/images/modal_test_images/atom_bomb/2450933623_18d7ba3d5c.jpg to \n",
            "/content/drive/MyDrive/ML/Food-Not-Food/images/modal_test_image_split/train/atom_bomb/2450933623_18d7ba3d5c.jpg\n",
            "Copying: \n",
            "/content/drive/MyDrive/ML/Food-Not-Food/images/modal_test_images/atom_bomb/66571814_a0c2d467ed.jpg to \n",
            "/content/drive/MyDrive/ML/Food-Not-Food/images/modal_test_image_split/train/atom_bomb/66571814_a0c2d467ed.jpg\n",
            "Copying: \n",
            "/content/drive/MyDrive/ML/Food-Not-Food/images/modal_test_images/atom_bomb/499355094_69300f6930.jpg to \n",
            "/content/drive/MyDrive/ML/Food-Not-Food/images/modal_test_image_split/train/atom_bomb/499355094_69300f6930.jpg\n",
            "Copying: \n",
            "/content/drive/MyDrive/ML/Food-Not-Food/images/modal_test_images/atom_bomb/49800354_260df62ac3.jpg to \n",
            "/content/drive/MyDrive/ML/Food-Not-Food/images/modal_test_image_split/train/atom_bomb/49800354_260df62ac3.jpg\n",
            "Copying: \n",
            "/content/drive/MyDrive/ML/Food-Not-Food/images/modal_test_images/atom_bomb/2711024490_bbd7f0514b.jpg to \n",
            "/content/drive/MyDrive/ML/Food-Not-Food/images/modal_test_image_split/train/atom_bomb/2711024490_bbd7f0514b.jpg\n",
            "Copying: \n",
            "/content/drive/MyDrive/ML/Food-Not-Food/images/modal_test_images/atom_bomb/2789292136_1e7a82194a.jpg to \n",
            "/content/drive/MyDrive/ML/Food-Not-Food/images/modal_test_image_split/train/atom_bomb/2789292136_1e7a82194a.jpg\n",
            "Copying: \n",
            "/content/drive/MyDrive/ML/Food-Not-Food/images/modal_test_images/atom_bomb/66570340_8e91d2ff12.jpg to \n",
            "/content/drive/MyDrive/ML/Food-Not-Food/images/modal_test_image_split/train/atom_bomb/66570340_8e91d2ff12.jpg\n",
            "Copying: \n",
            "/content/drive/MyDrive/ML/Food-Not-Food/images/modal_test_images/atom_bomb/2381957105_e88d41b4bb_o.jpg to \n",
            "/content/drive/MyDrive/ML/Food-Not-Food/images/modal_test_image_split/train/atom_bomb/2381957105_e88d41b4bb_o.jpg\n",
            "Copying: \n",
            "/content/drive/MyDrive/ML/Food-Not-Food/images/modal_test_images/atom_bomb/1720910261_0ca6a39033.jpg to \n",
            "/content/drive/MyDrive/ML/Food-Not-Food/images/modal_test_image_split/train/atom_bomb/1720910261_0ca6a39033.jpg\n",
            "Copying: \n",
            "/content/drive/MyDrive/ML/Food-Not-Food/images/modal_test_images/atom_bomb/2183903256_b5160f6f0a.jpg to \n",
            "/content/drive/MyDrive/ML/Food-Not-Food/images/modal_test_image_split/train/atom_bomb/2183903256_b5160f6f0a.jpg\n",
            "Copying: \n",
            "/content/drive/MyDrive/ML/Food-Not-Food/images/modal_test_images/atom_bomb/1928795683_1d4f19131a.jpg to \n",
            "/content/drive/MyDrive/ML/Food-Not-Food/images/modal_test_image_split/train/atom_bomb/1928795683_1d4f19131a.jpg\n",
            "Copying: \n",
            "/content/drive/MyDrive/ML/Food-Not-Food/images/modal_test_images/atom_bomb/1861148468_1a8408921b.jpg to \n",
            "/content/drive/MyDrive/ML/Food-Not-Food/images/modal_test_image_split/train/atom_bomb/1861148468_1a8408921b.jpg\n",
            "Copying: \n",
            "/content/drive/MyDrive/ML/Food-Not-Food/images/modal_test_images/atom_bomb/451943379_c87909e9d6.jpg to \n",
            "/content/drive/MyDrive/ML/Food-Not-Food/images/modal_test_image_split/train/atom_bomb/451943379_c87909e9d6.jpg\n",
            "Copying: \n",
            "/content/drive/MyDrive/ML/Food-Not-Food/images/modal_test_images/atom_bomb/1938560259_731bed807b.jpg to \n",
            "/content/drive/MyDrive/ML/Food-Not-Food/images/modal_test_image_split/train/atom_bomb/1938560259_731bed807b.jpg\n",
            "Copying: \n",
            "/content/drive/MyDrive/ML/Food-Not-Food/images/modal_test_images/atom_bomb/293644207_b997436fb2.jpg to \n",
            "/content/drive/MyDrive/ML/Food-Not-Food/images/modal_test_image_split/train/atom_bomb/293644207_b997436fb2.jpg\n",
            "Copying: \n",
            "/content/drive/MyDrive/ML/Food-Not-Food/images/modal_test_images/atom_bomb/491839085_81adeb8ce3.jpg to \n",
            "/content/drive/MyDrive/ML/Food-Not-Food/images/modal_test_image_split/train/atom_bomb/491839085_81adeb8ce3.jpg\n",
            "Copying: \n",
            "/content/drive/MyDrive/ML/Food-Not-Food/images/modal_test_images/atom_bomb/499463007_7efe2d79d9.jpg to \n",
            "/content/drive/MyDrive/ML/Food-Not-Food/images/modal_test_image_split/train/atom_bomb/499463007_7efe2d79d9.jpg\n",
            "Copying: \n",
            "/content/drive/MyDrive/ML/Food-Not-Food/images/modal_test_images/atom_bomb/66570900_53974d3894.jpg to \n",
            "/content/drive/MyDrive/ML/Food-Not-Food/images/modal_test_image_split/train/atom_bomb/66570900_53974d3894.jpg\n",
            "Copying: \n",
            "/content/drive/MyDrive/ML/Food-Not-Food/images/modal_test_images/atom_bomb/2390762359_dee59bdb95.jpg to \n",
            "/content/drive/MyDrive/ML/Food-Not-Food/images/modal_test_image_split/train/atom_bomb/2390762359_dee59bdb95.jpg\n",
            "Copying: \n",
            "/content/drive/MyDrive/ML/Food-Not-Food/images/modal_test_images/atom_bomb/688474183_8ccee2bb03.jpg to \n",
            "/content/drive/MyDrive/ML/Food-Not-Food/images/modal_test_image_split/train/atom_bomb/688474183_8ccee2bb03.jpg\n",
            "Copying: \n",
            "/content/drive/MyDrive/ML/Food-Not-Food/images/modal_test_images/atom_bomb/2627936623_070e3c3438_o.jpg to \n",
            "/content/drive/MyDrive/ML/Food-Not-Food/images/modal_test_image_split/train/atom_bomb/2627936623_070e3c3438_o.jpg\n",
            "Copying: \n",
            "/content/drive/MyDrive/ML/Food-Not-Food/images/modal_test_images/atom_bomb/128394907_f328f45782.jpg to \n",
            "/content/drive/MyDrive/ML/Food-Not-Food/images/modal_test_image_split/train/atom_bomb/128394907_f328f45782.jpg\n",
            "Copying: \n",
            "/content/drive/MyDrive/ML/Food-Not-Food/images/modal_test_images/atom_bomb/536150728_d7d8b54cf7.jpg to \n",
            "/content/drive/MyDrive/ML/Food-Not-Food/images/modal_test_image_split/train/atom_bomb/536150728_d7d8b54cf7.jpg\n",
            "Copying: \n",
            "/content/drive/MyDrive/ML/Food-Not-Food/images/modal_test_images/atom_bomb/292323265_4ab498bca4.jpg to \n",
            "/content/drive/MyDrive/ML/Food-Not-Food/images/modal_test_image_split/train/atom_bomb/292323265_4ab498bca4.jpg\n",
            "Copying: \n",
            "/content/drive/MyDrive/ML/Food-Not-Food/images/modal_test_images/atom_bomb/463098676_3c87797dea.jpg to \n",
            "/content/drive/MyDrive/ML/Food-Not-Food/images/modal_test_image_split/train/atom_bomb/463098676_3c87797dea.jpg\n",
            "Copying: \n",
            "/content/drive/MyDrive/ML/Food-Not-Food/images/modal_test_images/atom_bomb/2756095593_e29697517b.jpg to \n",
            "/content/drive/MyDrive/ML/Food-Not-Food/images/modal_test_image_split/train/atom_bomb/2756095593_e29697517b.jpg\n",
            "Copying: \n",
            "/content/drive/MyDrive/ML/Food-Not-Food/images/modal_test_images/atom_bomb/499360896_ac6a10499e.jpg to \n",
            "/content/drive/MyDrive/ML/Food-Not-Food/images/modal_test_image_split/train/atom_bomb/499360896_ac6a10499e.jpg\n",
            "Copying: \n",
            "/content/drive/MyDrive/ML/Food-Not-Food/images/modal_test_images/atom_bomb/1027354662_1ecc4c5073.jpg to \n",
            "/content/drive/MyDrive/ML/Food-Not-Food/images/modal_test_image_split/train/atom_bomb/1027354662_1ecc4c5073.jpg\n",
            "Copying: \n",
            "/content/drive/MyDrive/ML/Food-Not-Food/images/modal_test_images/atom_bomb/2046798276_3447aca29f.jpg to \n",
            "/content/drive/MyDrive/ML/Food-Not-Food/images/modal_test_image_split/train/atom_bomb/2046798276_3447aca29f.jpg\n",
            "Copying: \n",
            "/content/drive/MyDrive/ML/Food-Not-Food/images/modal_test_images/atom_bomb/3078289414_84dcebe3bf.jpg to \n",
            "/content/drive/MyDrive/ML/Food-Not-Food/images/modal_test_image_split/train/atom_bomb/3078289414_84dcebe3bf.jpg\n",
            "Copying: \n",
            "/content/drive/MyDrive/ML/Food-Not-Food/images/modal_test_images/atom_bomb/2253288471_f8cb16bda0.jpg to \n",
            "/content/drive/MyDrive/ML/Food-Not-Food/images/modal_test_image_split/train/atom_bomb/2253288471_f8cb16bda0.jpg\n",
            "Copying: \n",
            "/content/drive/MyDrive/ML/Food-Not-Food/images/modal_test_images/atom_bomb/3782837346_cf29e47100.jpg to \n",
            "/content/drive/MyDrive/ML/Food-Not-Food/images/modal_test_image_split/train/atom_bomb/3782837346_cf29e47100.jpg\n",
            "Copying: \n",
            "/content/drive/MyDrive/ML/Food-Not-Food/images/modal_test_images/atom_bomb/2705616364_32d49c43cc.jpg to \n",
            "/content/drive/MyDrive/ML/Food-Not-Food/images/modal_test_image_split/train/atom_bomb/2705616364_32d49c43cc.jpg\n",
            "Copying: \n",
            "/content/drive/MyDrive/ML/Food-Not-Food/images/modal_test_images/atom_bomb/66569550_0474912a5f.jpg to \n",
            "/content/drive/MyDrive/ML/Food-Not-Food/images/modal_test_image_split/train/atom_bomb/66569550_0474912a5f.jpg\n",
            "Copying: \n",
            "/content/drive/MyDrive/ML/Food-Not-Food/images/modal_test_images/atom_bomb/1457501155_0235b3b728.jpg to \n",
            "/content/drive/MyDrive/ML/Food-Not-Food/images/modal_test_image_split/test/atom_bomb/1457501155_0235b3b728.jpg\n",
            "Copying: \n",
            "/content/drive/MyDrive/ML/Food-Not-Food/images/modal_test_images/atom_bomb/2601547715_d87643d69d.jpg to \n",
            "/content/drive/MyDrive/ML/Food-Not-Food/images/modal_test_image_split/test/atom_bomb/2601547715_d87643d69d.jpg\n",
            "Copying: \n",
            "/content/drive/MyDrive/ML/Food-Not-Food/images/modal_test_images/atom_bomb/2373936401_42c5a4d4eb.jpg to \n",
            "/content/drive/MyDrive/ML/Food-Not-Food/images/modal_test_image_split/test/atom_bomb/2373936401_42c5a4d4eb.jpg\n",
            "Copying: \n",
            "/content/drive/MyDrive/ML/Food-Not-Food/images/modal_test_images/atom_bomb/310609771_600496efc2.jpg to \n",
            "/content/drive/MyDrive/ML/Food-Not-Food/images/modal_test_image_split/test/atom_bomb/310609771_600496efc2.jpg\n",
            "Copying: \n",
            "/content/drive/MyDrive/ML/Food-Not-Food/images/modal_test_images/atom_bomb/2344313901_5d5efb6a4c.jpg to \n",
            "/content/drive/MyDrive/ML/Food-Not-Food/images/modal_test_image_split/test/atom_bomb/2344313901_5d5efb6a4c.jpg\n",
            "Copying: \n",
            "/content/drive/MyDrive/ML/Food-Not-Food/images/modal_test_images/atom_bomb/52843923_cb7f50de2f.jpg to \n",
            "/content/drive/MyDrive/ML/Food-Not-Food/images/modal_test_image_split/test/atom_bomb/52843923_cb7f50de2f.jpg\n",
            "Copying: \n",
            "/content/drive/MyDrive/ML/Food-Not-Food/images/modal_test_images/atom_bomb/181188628_6e2912c157.jpg to \n",
            "/content/drive/MyDrive/ML/Food-Not-Food/images/modal_test_image_split/test/atom_bomb/181188628_6e2912c157.jpg\n",
            "Copying: \n",
            "/content/drive/MyDrive/ML/Food-Not-Food/images/modal_test_images/atom_bomb/2880117505_0b3d839357.jpg to \n",
            "/content/drive/MyDrive/ML/Food-Not-Food/images/modal_test_image_split/test/atom_bomb/2880117505_0b3d839357.jpg\n",
            "Copying: \n",
            "/content/drive/MyDrive/ML/Food-Not-Food/images/modal_test_images/atom_bomb/484671252_505911f91f.jpg to \n",
            "/content/drive/MyDrive/ML/Food-Not-Food/images/modal_test_image_split/test/atom_bomb/484671252_505911f91f.jpg\n",
            "Copying: \n",
            "/content/drive/MyDrive/ML/Food-Not-Food/images/modal_test_images/atom_bomb/2569046367_1dfbe4b95c.jpg to \n",
            "/content/drive/MyDrive/ML/Food-Not-Food/images/modal_test_image_split/test/atom_bomb/2569046367_1dfbe4b95c.jpg\n",
            "Copying: \n",
            "/content/drive/MyDrive/ML/Food-Not-Food/images/modal_test_images/atom_bomb/2519124828_5df1b8e535.jpg to \n",
            "/content/drive/MyDrive/ML/Food-Not-Food/images/modal_test_image_split/test/atom_bomb/2519124828_5df1b8e535.jpg\n"
          ]
        }
      ]
    },
    {
      "cell_type": "code",
      "metadata": {
        "id": "SlNqrz99N8gx"
      },
      "source": [
        "import tensorflow as tf\n"
      ],
      "execution_count": null,
      "outputs": []
    },
    {
      "cell_type": "code",
      "metadata": {
        "colab": {
          "base_uri": "https://localhost:8080/"
        },
        "id": "2fyn8JnCmKjA",
        "outputId": "fa50429f-f526-48c5-faed-5f600a45642e"
      },
      "source": [
        "train_dir = \"/content/drive/MyDrive/ML/Food-Not-Food/images/modal_test_image_split/train\"\n",
        "test_dir = \"/content/drive/MyDrive/ML/Food-Not-Food/images/modal_test_image_split/test\"\n",
        "\n",
        "train_dir, test_dir"
      ],
      "execution_count": null,
      "outputs": [
        {
          "output_type": "execute_result",
          "data": {
            "text/plain": [
              "('/content/drive/MyDrive/ML/Food-Not-Food/images/modal_test_image_split/train',\n",
              " '/content/drive/MyDrive/ML/Food-Not-Food/images/modal_test_image_split/test')"
            ]
          },
          "metadata": {},
          "execution_count": 57
        }
      ]
    },
    {
      "cell_type": "code",
      "metadata": {
        "colab": {
          "base_uri": "https://localhost:8080/"
        },
        "id": "hnM71qUQmgam",
        "outputId": "5c62e429-8012-47b7-a7cc-085ec12b52dd"
      },
      "source": [
        "# Load in data\n",
        "train_data = tf.keras.preprocessing.image_dataset_from_directory(train_dir,\n",
        "                                                                 batch_size = 32,\n",
        "                                                                 image_size = (224,224))\n",
        "\n",
        "test_data = tf.keras.preprocessing.image_dataset_from_directory(test_dir,\n",
        "                                                                batch_size = 32,\n",
        "                                                                image_size = (224, 224))\n",
        "\n",
        "train_data, test_data"
      ],
      "execution_count": null,
      "outputs": [
        {
          "output_type": "stream",
          "name": "stdout",
          "text": [
            "Found 87 files belonging to 2 classes.\n",
            "Found 32 files belonging to 2 classes.\n"
          ]
        },
        {
          "output_type": "execute_result",
          "data": {
            "text/plain": [
              "(<BatchDataset shapes: ((None, 224, 224, 3), (None,)), types: (tf.float32, tf.int32)>,\n",
              " <BatchDataset shapes: ((None, 224, 224, 3), (None,)), types: (tf.float32, tf.int32)>)"
            ]
          },
          "metadata": {},
          "execution_count": 58
        }
      ]
    },
    {
      "cell_type": "markdown",
      "metadata": {
        "id": "b1xXCq9OnePu"
      },
      "source": [
        "# First Model"
      ]
    },
    {
      "cell_type": "code",
      "metadata": {
        "id": "kV0lWDgwnJgo"
      },
      "source": [
        "train_data = train_data.prefetch(tf.data.AUTOTUNE)\n",
        "test_data = test_data.prefetch(tf.data.AUTOTUNE)\n"
      ],
      "execution_count": null,
      "outputs": []
    },
    {
      "cell_type": "code",
      "metadata": {
        "colab": {
          "base_uri": "https://localhost:8080/"
        },
        "id": "lI09mNrgnrwn",
        "outputId": "d99ac16f-3c09-4570-bde0-02d544b6b800"
      },
      "source": [
        "base_model = tf.keras.applications.EfficientNetB0(include_top = False)\n",
        "base_model.trainable = False\n",
        "\n",
        "# Build a functional model\n",
        "input_layer = tf.keras.layers.Input(shape = (224, 224, 3))\n",
        "x = base_model(input_layer)\n",
        "x = tf.keras.layers.GlobalAveragePooling2D()(x)\n",
        "output_layer = tf.keras.layers.Dense(1, activation=\"sigmoid\")(x)\n",
        "\n",
        "# Construct model\n",
        "model_1 = tf.keras.Model(input_layer, output_layer, name = \"EffNetB0-V1\")\n",
        "model_1"
      ],
      "execution_count": null,
      "outputs": [
        {
          "output_type": "execute_result",
          "data": {
            "text/plain": [
              "<keras.engine.functional.Functional at 0x7fcfd9cbbc10>"
            ]
          },
          "metadata": {},
          "execution_count": 60
        }
      ]
    },
    {
      "cell_type": "code",
      "metadata": {
        "colab": {
          "base_uri": "https://localhost:8080/",
          "height": 422
        },
        "id": "gGlkjbGnoLiI",
        "outputId": "9de39347-b06d-41f1-d033-c51292bdcdc1"
      },
      "source": [
        "tf.keras.utils.plot_model(model_1, show_shapes=True)"
      ],
      "execution_count": null,
      "outputs": [
        {
          "output_type": "execute_result",
          "data": {
            "image/png": "[encoded data removed]",
            "text/plain": [
              "<IPython.core.display.Image object>"
            ]
          },
          "metadata": {},
          "execution_count": 61
        }
      ]
    },
    {
      "cell_type": "code",
      "metadata": {
        "colab": {
          "base_uri": "https://localhost:8080/"
        },
        "id": "hcT5wVfdrA3d",
        "outputId": "ca807dfd-e6c4-406b-8068-f610287bf30f"
      },
      "source": [
        "!pip install wandb\n",
        "\n",
        "# Get helper_functions.py script from course GitHub\n",
        "!wget https://raw.githubusercontent.com/mrdbourke/tensorflow-deep-learning/main/extras/helper_functions.py \n",
        "\n",
        "# Import helper functions we're going to use\n",
        "from helper_functions import create_tensorboard_callback, plot_loss_curves, unzip_data, walk_through_dir"
      ],
      "execution_count": null,
      "outputs": [
        {
          "output_type": "stream",
          "name": "stdout",
          "text": [
            "Requirement already satisfied: wandb in /usr/local/lib/python3.7/dist-packages (0.12.7)\n",
            "Requirement already satisfied: docker-pycreds>=0.4.0 in /usr/local/lib/python3.7/dist-packages (from wandb) (0.4.0)\n",
            "Requirement already satisfied: yaspin>=1.0.0 in /usr/local/lib/python3.7/dist-packages (from wandb) (2.1.0)\n",
            "Requirement already satisfied: python-dateutil>=2.6.1 in /usr/local/lib/python3.7/dist-packages (from wandb) (2.8.2)\n",
            "Requirement already satisfied: subprocess32>=3.5.3 in /usr/local/lib/python3.7/dist-packages (from wandb) (3.5.4)\n",
            "Requirement already satisfied: configparser>=3.8.1 in /usr/local/lib/python3.7/dist-packages (from wandb) (5.1.0)\n",
            "Requirement already satisfied: sentry-sdk>=1.0.0 in /usr/local/lib/python3.7/dist-packages (from wandb) (1.5.0)\n",
            "Requirement already satisfied: requests<3,>=2.0.0 in /usr/local/lib/python3.7/dist-packages (from wandb) (2.23.0)\n",
            "Requirement already satisfied: GitPython>=1.0.0 in /usr/local/lib/python3.7/dist-packages (from wandb) (3.1.24)\n",
            "Requirement already satisfied: psutil>=5.0.0 in /usr/local/lib/python3.7/dist-packages (from wandb) (5.4.8)\n",
            "Requirement already satisfied: Click!=8.0.0,>=7.0 in /usr/local/lib/python3.7/dist-packages (from wandb) (7.1.2)\n",
            "Requirement already satisfied: six>=1.13.0 in /usr/local/lib/python3.7/dist-packages (from wandb) (1.15.0)\n",
            "Requirement already satisfied: PyYAML in /usr/local/lib/python3.7/dist-packages (from wandb) (3.13)\n",
            "Requirement already satisfied: pathtools in /usr/local/lib/python3.7/dist-packages (from wandb) (0.1.2)\n",
            "Requirement already satisfied: protobuf>=3.12.0 in /usr/local/lib/python3.7/dist-packages (from wandb) (3.17.3)\n",
            "Requirement already satisfied: shortuuid>=0.5.0 in /usr/local/lib/python3.7/dist-packages (from wandb) (1.0.8)\n",
            "Requirement already satisfied: promise<3,>=2.0 in /usr/local/lib/python3.7/dist-packages (from wandb) (2.3)\n",
            "Requirement already satisfied: typing-extensions>=3.7.4.3 in /usr/local/lib/python3.7/dist-packages (from GitPython>=1.0.0->wandb) (3.10.0.2)\n",
            "Requirement already satisfied: gitdb<5,>=4.0.1 in /usr/local/lib/python3.7/dist-packages (from GitPython>=1.0.0->wandb) (4.0.9)\n",
            "Requirement already satisfied: smmap<6,>=3.0.1 in /usr/local/lib/python3.7/dist-packages (from gitdb<5,>=4.0.1->GitPython>=1.0.0->wandb) (5.0.0)\n",
            "Requirement already satisfied: urllib3!=1.25.0,!=1.25.1,<1.26,>=1.21.1 in /usr/local/lib/python3.7/dist-packages (from requests<3,>=2.0.0->wandb) (1.24.3)\n",
            "Requirement already satisfied: chardet<4,>=3.0.2 in /usr/local/lib/python3.7/dist-packages (from requests<3,>=2.0.0->wandb) (3.0.4)\n",
            "Requirement already satisfied: certifi>=2017.4.17 in /usr/local/lib/python3.7/dist-packages (from requests<3,>=2.0.0->wandb) (2021.10.8)\n",
            "Requirement already satisfied: idna<3,>=2.5 in /usr/local/lib/python3.7/dist-packages (from requests<3,>=2.0.0->wandb) (2.10)\n",
            "Requirement already satisfied: termcolor<2.0.0,>=1.1.0 in /usr/local/lib/python3.7/dist-packages (from yaspin>=1.0.0->wandb) (1.1.0)\n",
            "--2021-11-28 06:11:43--  https://raw.githubusercontent.com/mrdbourke/tensorflow-deep-learning/main/extras/helper_functions.py\n",
            "Resolving raw.githubusercontent.com (raw.githubusercontent.com)... 185.199.108.133, 185.199.109.133, 185.199.110.133, ...\n",
            "Connecting to raw.githubusercontent.com (raw.githubusercontent.com)|185.199.108.133|:443... connected.\n",
            "HTTP request sent, awaiting response... 200 OK\n",
            "Length: 10246 (10K) [text/plain]\n",
            "Saving to: ‘helper_functions.py.1’\n",
            "\n",
            "helper_functions.py 100%[===================>]  10.01K  --.-KB/s    in 0s      \n",
            "\n",
            "2021-11-28 06:11:43 (74.9 MB/s) - ‘helper_functions.py.1’ saved [10246/10246]\n",
            "\n"
          ]
        }
      ]
    },
    {
      "cell_type": "code",
      "metadata": {
        "id": "UAkI7YtSr_C-",
        "colab": {
          "base_uri": "https://localhost:8080/"
        },
        "outputId": "ce9deb41-69c8-4927-d4a9-bb42dae9b18f"
      },
      "source": [
        "import wandb\n",
        "\n",
        "wandb.login()"
      ],
      "execution_count": null,
      "outputs": [
        {
          "output_type": "stream",
          "name": "stderr",
          "text": [
            "\u001b[34m\u001b[1mwandb\u001b[0m: \u001b[33mWARNING\u001b[0m Calling wandb.login() after wandb.init() has no effect.\n"
          ]
        },
        {
          "output_type": "execute_result",
          "data": {
            "text/plain": [
              "True"
            ]
          },
          "metadata": {},
          "execution_count": 63
        }
      ]
    },
    {
      "cell_type": "code",
      "metadata": {
        "id": "Fe5ipN_4Icpg"
      },
      "source": [
        "#!tensorboard --logdir logs"
      ],
      "execution_count": null,
      "outputs": []
    },
    {
      "cell_type": "code",
      "metadata": {
        "id": "jsPWTgU6sIbK",
        "colab": {
          "base_uri": "https://localhost:8080/",
          "height": 735,
          "referenced_widgets": [
            "70fa8609d1c646ff83eb49451eec598f",
            "39e0d7e24c1c496ca699be5cb07736b0",
            "1c06afad10f941b19a1a16dea6d8fe39",
            "39a6449dd1f54e87a5fd66a325440879",
            "5f6143595fff4d2480e3a58fdd864f1a",
            "a8eb6ad9685f48f3921b34c5ae623eb7",
            "b52a01399a0d4426a12df1f46751c3d1",
            "70e3ad7268794a6cb079a8bcf9785a94"
          ]
        },
        "outputId": "86354ec1-8770-4c08-e1e9-ccbd98824bc5"
      },
      "source": [
        "#wandb.tensorboard.patch(root_logdir=\"/content/drive/MyDrive/ML/Food-Not-Food/logs\")\n",
        "wandb.init(project=\"food-not-food\", entity=\"tejas_makadia\", sync_tensorboard=True)"
      ],
      "execution_count": null,
      "outputs": [
        {
          "output_type": "display_data",
          "data": {
            "text/html": [
              "Finishing last run (ID:3123rmmr) before initializing another..."
            ],
            "text/plain": [
              "<IPython.core.display.HTML object>"
            ]
          },
          "metadata": {}
        },
        {
          "output_type": "display_data",
          "data": {
            "text/html": [
              "<br/>Waiting for W&B process to finish, PID 3340... <strong style=\"color:green\">(success).</strong>"
            ],
            "text/plain": [
              "<IPython.core.display.HTML object>"
            ]
          },
          "metadata": {}
        },
        {
          "output_type": "display_data",
          "data": {
            "application/vnd.jupyter.widget-view+json": {
              "model_id": "70fa8609d1c646ff83eb49451eec598f",
              "version_minor": 0,
              "version_major": 2
            },
            "text/plain": [
              "VBox(children=(Label(value=' 0.90MB of 0.90MB uploaded (0.00MB deduped)\\r'), FloatProgress(value=1.0, max=1.0)…"
            ]
          },
          "metadata": {}
        },
        {
          "output_type": "display_data",
          "data": {
            "text/html": [
              "<style>\n",
              "    table.wandb td:nth-child(1) { padding: 0 10px; text-align: right }\n",
              "    .wandb-row { display: flex; flex-direction: row; flex-wrap: wrap; width: 100% }\n",
              "    .wandb-col { display: flex; flex-direction: column; flex-basis: 100%; flex: 1; padding: 10px; }\n",
              "    </style>\n",
              "<div class=\"wandb-row\"><div class=\"wandb-col\">\n",
              "<h3>Run history:</h3><br/><table class=\"wandb\"><tr><td>global_step</td><td>▁▁▁▂▂▂▂▂▂▃▃▃▃▃▄▄▄▄▄▅▅▅▅▅▅▅▆▆▆▆▆▆▇▇▇▇▇███</td></tr><tr><td>train/epoch_accuracy</td><td>▁▁▁▁▁▁▁▁▁▁▁▁▁▁▁▁▁▁▁▁▁▁▁▁▁▁▁▁▁▁▁▁▁▁▁▁▁▁▁▁</td></tr><tr><td>train/epoch_loss</td><td>█▆▅▅▄▃▃▃▃▂▂▂▂▂▂▂▂▁▂▂▁▁▁▁▁▁▁▁▁▁▁▁▁▁▁▁▁▁▁▁</td></tr><tr><td>train/global_step</td><td>▁▁▁▁▂▂▂▂▂▃▃▃▃▃▃▄▄▄▄▄▅▅▅▅▅▅▆▆▆▆▆▆▇▇▇▇▇███</td></tr><tr><td>validation/epoch_accuracy</td><td>▁▁▁▁▁▁▁▁▁▁▁▁▁▁▁▁▁▁▁▁▁▁▁▁▁▁▁▁▁▁▁▁▁▁▁▁▁▁▁▁</td></tr><tr><td>validation/epoch_loss</td><td>█▇▆▆▅▄▄▄▃▃▃▃▂▂▂▂▂▂▂▂▂▂▂▂▂▂▂▂▂▁▁▁▁▁▁▁▁▁▁▁</td></tr><tr><td>validation/evaluation_accuracy_vs_iterations</td><td>▁▁▁▁▁▁▁▁▁▁▁▁▁▁▁▁▁▁▁▁▁▁▁▁▁▁▁▁▁▁▁▁▁▁▁▁▁▁▁▁</td></tr><tr><td>validation/evaluation_loss_vs_iterations</td><td>█▇▆▆▅▄▄▄▃▃▃▃▂▂▂▂▂▂▂▂▂▂▂▂▂▂▂▂▂▁▁▁▁▁▁▁▁▁▁▁</td></tr><tr><td>validation/global_step</td><td>▁▁▂▁▂▂▂▂▂▂▃▃▃▃▃▄▄▄▄▄▄▅▅▅▅▅▆▆▆▆▆▆▇▇▇▇▇███</td></tr></table><br/></div><div class=\"wandb-col\">\n",
              "<h3>Run summary:</h3><br/><table class=\"wandb\"><tr><td>global_step</td><td>150</td></tr><tr><td>train/epoch_accuracy</td><td>1.0</td></tr><tr><td>train/epoch_loss</td><td>0.00118</td></tr><tr><td>train/global_step</td><td>49</td></tr><tr><td>validation/epoch_accuracy</td><td>1.0</td></tr><tr><td>validation/epoch_loss</td><td>0.00521</td></tr><tr><td>validation/evaluation_accuracy_vs_iterations</td><td>1.0</td></tr><tr><td>validation/evaluation_loss_vs_iterations</td><td>0.00521</td></tr><tr><td>validation/global_step</td><td>49</td></tr></table>\n",
              "</div></div>\n",
              "Synced 5 W&B file(s), 0 media file(s), 0 artifact file(s) and 2 other file(s)\n",
              "<br/>Synced <strong style=\"color:#cdcd00\">sage-bush-4</strong>: <a href=\"https://wandb.ai/tejas_makadia/food-not-food/runs/3123rmmr\" target=\"_blank\">https://wandb.ai/tejas_makadia/food-not-food/runs/3123rmmr</a><br/>\n",
              "Find logs at: <code>./wandb/run-20211128_060537-3123rmmr/logs</code><br/>\n"
            ],
            "text/plain": [
              "<IPython.core.display.HTML object>"
            ]
          },
          "metadata": {}
        },
        {
          "output_type": "display_data",
          "data": {
            "text/html": [
              "Successfully finished last run (ID:3123rmmr). Initializing new run:<br/>"
            ],
            "text/plain": [
              "<IPython.core.display.HTML object>"
            ]
          },
          "metadata": {}
        },
        {
          "output_type": "display_data",
          "data": {
            "text/html": [
              "\n",
              "                    Syncing run <strong><a href=\"https://wandb.ai/tejas_makadia/food-not-food/runs/tcdg7stt\" target=\"_blank\">icy-donkey-5</a></strong> to <a href=\"https://wandb.ai/tejas_makadia/food-not-food\" target=\"_blank\">Weights & Biases</a> (<a href=\"https://docs.wandb.com/integrations/jupyter.html\" target=\"_blank\">docs</a>).<br/>\n",
              "\n",
              "                "
            ],
            "text/plain": [
              "<IPython.core.display.HTML object>"
            ]
          },
          "metadata": {}
        },
        {
          "output_type": "execute_result",
          "data": {
            "text/plain": [
              "<wandb.sdk.wandb_run.Run at 0x7fcfd9c0e710>"
            ],
            "text/html": [
              "<button onClick=\"this.nextSibling.style.display='block';this.style.display='none';\">Display W&B run</button><iframe src=\"https://wandb.ai/tejas_makadia/food-not-food/runs/tcdg7stt?jupyter=true\" style=\"border:none;width:100%;height:420px;display:none;\"></iframe>"
            ]
          },
          "metadata": {},
          "execution_count": 65
        }
      ]
    },
    {
      "cell_type": "code",
      "metadata": {
        "id": "yr04FUSi9qD0"
      },
      "source": [
        "model_1.compile(loss = tf.keras.losses.BinaryCrossentropy(),\n",
        "              optimizer = tf.keras.optimizers.Adam(),\n",
        "              metrics = ['accuracy'])"
      ],
      "execution_count": null,
      "outputs": []
    },
    {
      "cell_type": "code",
      "metadata": {
        "id": "VQZq3p15AKrH"
      },
      "source": [
        "# create early stopping callback\n",
        "early_stopping = tf.keras.callbacks.EarlyStopping(patience=5,\n",
        "                                                  monitor = 'val_loss')"
      ],
      "execution_count": null,
      "outputs": []
    },
    {
      "cell_type": "code",
      "metadata": {
        "colab": {
          "base_uri": "https://localhost:8080/",
          "height": 36
        },
        "id": "tMODSqTKGFJc",
        "outputId": "79796b97-e626-4b7d-8553-2bd73278c893"
      },
      "source": [
        "str(model_1.name)"
      ],
      "execution_count": null,
      "outputs": [
        {
          "output_type": "execute_result",
          "data": {
            "application/vnd.google.colaboratory.intrinsic+json": {
              "type": "string"
            },
            "text/plain": [
              "'EffNetB0-V1'"
            ]
          },
          "metadata": {},
          "execution_count": 68
        }
      ]
    },
    {
      "cell_type": "code",
      "metadata": {
        "colab": {
          "base_uri": "https://localhost:8080/",
          "height": 1000,
          "referenced_widgets": [
            "077b55ed4f2143a595efd86bce3fe95f",
            "90d494bc87e14264a063de99411f5d90",
            "2f93c8438caa4d32ae598a81fe991fa2",
            "d89f5e36ebe5448c82b765ab86710af0",
            "c9a0011a655a46a7936a44cd5ed180d7",
            "26a0f48eb8634b53ac07bd938b9d8c13",
            "871d6ed0892f40dc825b68119a42fe2d",
            "2f1ad911f01b4aa994937117637cb607"
          ]
        },
        "id": "gJV5gVHK_7IZ",
        "outputId": "17129fbd-e721-484b-a920-0051d0fd99d0"
      },
      "source": [
        "\n",
        "\n",
        "history_1 = model_1.fit(train_data,\n",
        "                        epochs = 50,\n",
        "                        validation_data = test_data,\n",
        "                        callbacks = [early_stopping,\n",
        "                        create_tensorboard_callback(\"logs\", model_1.name)])"
      ],
      "execution_count": null,
      "outputs": [
        {
          "output_type": "display_data",
          "data": {
            "text/html": [
              "Finishing last run (ID:tcdg7stt) before initializing another..."
            ],
            "text/plain": [
              "<IPython.core.display.HTML object>"
            ]
          },
          "metadata": {}
        },
        {
          "output_type": "display_data",
          "data": {
            "text/html": [
              "<br/>Waiting for W&B process to finish, PID 4172... <strong style=\"color:green\">(success).</strong>"
            ],
            "text/plain": [
              "<IPython.core.display.HTML object>"
            ]
          },
          "metadata": {}
        },
        {
          "output_type": "display_data",
          "data": {
            "application/vnd.jupyter.widget-view+json": {
              "model_id": "077b55ed4f2143a595efd86bce3fe95f",
              "version_minor": 0,
              "version_major": 2
            },
            "text/plain": [
              "VBox(children=(Label(value=' 0.00MB of 0.00MB uploaded (0.00MB deduped)\\r'), FloatProgress(value=1.0, max=1.0)…"
            ]
          },
          "metadata": {}
        },
        {
          "output_type": "display_data",
          "data": {
            "text/html": [
              "<style>\n",
              "    table.wandb td:nth-child(1) { padding: 0 10px; text-align: right }\n",
              "    .wandb-row { display: flex; flex-direction: row; flex-wrap: wrap; width: 100% }\n",
              "    .wandb-col { display: flex; flex-direction: column; flex-basis: 100%; flex: 1; padding: 10px; }\n",
              "    </style>\n",
              "<div class=\"wandb-row\"><div class=\"wandb-col\">\n",
              "</div><div class=\"wandb-col\">\n",
              "</div></div>\n",
              "Synced 4 W&B file(s), 0 media file(s), 0 artifact file(s) and 0 other file(s)\n",
              "<br/>Synced <strong style=\"color:#cdcd00\">icy-donkey-5</strong>: <a href=\"https://wandb.ai/tejas_makadia/food-not-food/runs/tcdg7stt\" target=\"_blank\">https://wandb.ai/tejas_makadia/food-not-food/runs/tcdg7stt</a><br/>\n",
              "Find logs at: <code>./wandb/run-20211128_061152-tcdg7stt/logs</code><br/>\n"
            ],
            "text/plain": [
              "<IPython.core.display.HTML object>"
            ]
          },
          "metadata": {}
        },
        {
          "output_type": "display_data",
          "data": {
            "text/html": [
              "Successfully finished last run (ID:tcdg7stt). Initializing new run:<br/>"
            ],
            "text/plain": [
              "<IPython.core.display.HTML object>"
            ]
          },
          "metadata": {}
        },
        {
          "output_type": "display_data",
          "data": {
            "text/html": [
              "\n",
              "                    Syncing run <strong><a href=\"https://wandb.ai/tejas_makadia/uncategorized/runs/2igmwi9w\" target=\"_blank\">fresh-violet-1</a></strong> to <a href=\"https://wandb.ai/tejas_makadia/uncategorized\" target=\"_blank\">Weights & Biases</a> (<a href=\"https://docs.wandb.com/integrations/jupyter.html\" target=\"_blank\">docs</a>).<br/>\n",
              "\n",
              "                "
            ],
            "text/plain": [
              "<IPython.core.display.HTML object>"
            ]
          },
          "metadata": {}
        },
        {
          "output_type": "stream",
          "name": "stderr",
          "text": [
            "\u001b[34m\u001b[1mwandb\u001b[0m: \u001b[33mWARNING\u001b[0m When using several event log directories, please call wandb.tensorboard.patch(root_logdir=\"...\") before wandb.init\n"
          ]
        },
        {
          "output_type": "stream",
          "name": "stdout",
          "text": [
            "Saving TensorBoard log files to: logs/EffNetB0-V1/20211128-061223\n"
          ]
        },
        {
          "output_type": "stream",
          "name": "stderr",
          "text": [
            "/usr/local/lib/python3.7/dist-packages/keras/engine/functional.py:1410: CustomMaskWarning: Custom mask layers require a config and must override get_config. When loading, the custom mask layer must be passed to the custom_objects argument.\n",
            "  layer_config = serialize_layer_fn(layer)\n"
          ]
        },
        {
          "output_type": "stream",
          "name": "stdout",
          "text": [
            "Epoch 1/50\n",
            "3/3 [==============================] - ETA: 0s - loss: 0.6617 - accuracy: 0.6092"
          ]
        },
        {
          "output_type": "stream",
          "name": "stderr",
          "text": [
            "\u001b[34m\u001b[1mwandb\u001b[0m: \u001b[33mWARNING\u001b[0m When using several event log directories, please call wandb.tensorboard.patch(root_logdir=\"...\") before wandb.init\n"
          ]
        },
        {
          "output_type": "stream",
          "name": "stdout",
          "text": [
            "\b\b\b\b\b\b\b\b\b\b\b\b\b\b\b\b\b\b\b\b\b\b\b\b\b\b\b\b\b\b\b\b\b\b\b\b\b\b\b\b\b\b\b\b\b\b\b\b\b\b\b\b\b\b\b\b\b\b\b\b\b\b\b\b\b\b\b\b\b\b\b\b\b\b\b\b\b\b\b\b\r3/3 [==============================] - 9s 1s/step - loss: 0.6617 - accuracy: 0.6092 - val_loss: 0.6162 - val_accuracy: 0.6875\n",
            "Epoch 2/50\n",
            "3/3 [==============================] - 1s 261ms/step - loss: 0.5650 - accuracy: 0.7241 - val_loss: 0.5215 - val_accuracy: 0.7500\n",
            "Epoch 3/50\n",
            "3/3 [==============================] - 1s 247ms/step - loss: 0.4731 - accuracy: 0.8046 - val_loss: 0.4406 - val_accuracy: 0.8438\n",
            "Epoch 4/50\n",
            "3/3 [==============================] - 1s 235ms/step - loss: 0.4000 - accuracy: 0.9080 - val_loss: 0.3731 - val_accuracy: 0.9688\n",
            "Epoch 5/50\n",
            "3/3 [==============================] - 1s 232ms/step - loss: 0.3350 - accuracy: 0.9540 - val_loss: 0.3172 - val_accuracy: 1.0000\n",
            "Epoch 6/50\n",
            "3/3 [==============================] - 1s 233ms/step - loss: 0.2842 - accuracy: 0.9655 - val_loss: 0.2709 - val_accuracy: 1.0000\n",
            "Epoch 7/50\n",
            "3/3 [==============================] - 1s 230ms/step - loss: 0.2429 - accuracy: 0.9655 - val_loss: 0.2334 - val_accuracy: 1.0000\n",
            "Epoch 8/50\n",
            "3/3 [==============================] - 1s 230ms/step - loss: 0.2081 - accuracy: 0.9770 - val_loss: 0.2032 - val_accuracy: 1.0000\n",
            "Epoch 9/50\n",
            "3/3 [==============================] - 1s 228ms/step - loss: 0.1878 - accuracy: 0.9885 - val_loss: 0.1785 - val_accuracy: 1.0000\n",
            "Epoch 10/50\n",
            "3/3 [==============================] - 1s 229ms/step - loss: 0.1644 - accuracy: 1.0000 - val_loss: 0.1583 - val_accuracy: 1.0000\n",
            "Epoch 11/50\n",
            "3/3 [==============================] - 1s 234ms/step - loss: 0.1481 - accuracy: 1.0000 - val_loss: 0.1417 - val_accuracy: 1.0000\n",
            "Epoch 12/50\n",
            "3/3 [==============================] - 1s 231ms/step - loss: 0.1317 - accuracy: 1.0000 - val_loss: 0.1279 - val_accuracy: 1.0000\n",
            "Epoch 13/50\n",
            "3/3 [==============================] - 1s 233ms/step - loss: 0.1171 - accuracy: 1.0000 - val_loss: 0.1164 - val_accuracy: 1.0000\n",
            "Epoch 14/50\n",
            "3/3 [==============================] - 1s 237ms/step - loss: 0.1091 - accuracy: 1.0000 - val_loss: 0.1067 - val_accuracy: 1.0000\n",
            "Epoch 15/50\n",
            "3/3 [==============================] - 1s 230ms/step - loss: 0.0985 - accuracy: 1.0000 - val_loss: 0.0984 - val_accuracy: 1.0000\n",
            "Epoch 16/50\n",
            "3/3 [==============================] - 1s 272ms/step - loss: 0.0878 - accuracy: 1.0000 - val_loss: 0.0914 - val_accuracy: 1.0000\n",
            "Epoch 17/50\n",
            "3/3 [==============================] - 1s 228ms/step - loss: 0.0849 - accuracy: 1.0000 - val_loss: 0.0853 - val_accuracy: 1.0000\n",
            "Epoch 18/50\n",
            "3/3 [==============================] - 1s 238ms/step - loss: 0.0788 - accuracy: 1.0000 - val_loss: 0.0802 - val_accuracy: 1.0000\n",
            "Epoch 19/50\n",
            "3/3 [==============================] - 1s 233ms/step - loss: 0.0724 - accuracy: 1.0000 - val_loss: 0.0756 - val_accuracy: 1.0000\n",
            "Epoch 20/50\n",
            "3/3 [==============================] - 1s 239ms/step - loss: 0.0692 - accuracy: 1.0000 - val_loss: 0.0716 - val_accuracy: 1.0000\n",
            "Epoch 21/50\n",
            "3/3 [==============================] - 1s 228ms/step - loss: 0.0681 - accuracy: 1.0000 - val_loss: 0.0679 - val_accuracy: 1.0000\n",
            "Epoch 22/50\n",
            "3/3 [==============================] - 1s 230ms/step - loss: 0.0601 - accuracy: 1.0000 - val_loss: 0.0647 - val_accuracy: 1.0000\n",
            "Epoch 23/50\n",
            "3/3 [==============================] - 1s 239ms/step - loss: 0.0557 - accuracy: 1.0000 - val_loss: 0.0617 - val_accuracy: 1.0000\n",
            "Epoch 24/50\n",
            "3/3 [==============================] - 1s 237ms/step - loss: 0.0512 - accuracy: 1.0000 - val_loss: 0.0591 - val_accuracy: 1.0000\n",
            "Epoch 25/50\n",
            "3/3 [==============================] - 1s 228ms/step - loss: 0.0502 - accuracy: 1.0000 - val_loss: 0.0567 - val_accuracy: 1.0000\n",
            "Epoch 26/50\n",
            "3/3 [==============================] - 1s 234ms/step - loss: 0.0481 - accuracy: 1.0000 - val_loss: 0.0545 - val_accuracy: 1.0000\n",
            "Epoch 27/50\n",
            "3/3 [==============================] - 1s 241ms/step - loss: 0.0469 - accuracy: 1.0000 - val_loss: 0.0525 - val_accuracy: 1.0000\n",
            "Epoch 28/50\n",
            "3/3 [==============================] - 1s 233ms/step - loss: 0.0485 - accuracy: 1.0000 - val_loss: 0.0506 - val_accuracy: 1.0000\n",
            "Epoch 29/50\n",
            "3/3 [==============================] - 1s 241ms/step - loss: 0.0433 - accuracy: 1.0000 - val_loss: 0.0489 - val_accuracy: 1.0000\n",
            "Epoch 30/50\n",
            "3/3 [==============================] - 1s 233ms/step - loss: 0.0457 - accuracy: 1.0000 - val_loss: 0.0472 - val_accuracy: 1.0000\n",
            "Epoch 31/50\n",
            "3/3 [==============================] - 1s 234ms/step - loss: 0.0387 - accuracy: 1.0000 - val_loss: 0.0457 - val_accuracy: 1.0000\n",
            "Epoch 32/50\n",
            "3/3 [==============================] - 1s 234ms/step - loss: 0.0370 - accuracy: 1.0000 - val_loss: 0.0442 - val_accuracy: 1.0000\n",
            "Epoch 33/50\n",
            "3/3 [==============================] - 1s 234ms/step - loss: 0.0353 - accuracy: 1.0000 - val_loss: 0.0429 - val_accuracy: 1.0000\n",
            "Epoch 34/50\n",
            "3/3 [==============================] - 1s 233ms/step - loss: 0.0374 - accuracy: 1.0000 - val_loss: 0.0416 - val_accuracy: 1.0000\n",
            "Epoch 35/50\n",
            "3/3 [==============================] - 1s 272ms/step - loss: 0.0332 - accuracy: 1.0000 - val_loss: 0.0404 - val_accuracy: 1.0000\n",
            "Epoch 36/50\n",
            "3/3 [==============================] - 1s 228ms/step - loss: 0.0309 - accuracy: 1.0000 - val_loss: 0.0393 - val_accuracy: 1.0000\n",
            "Epoch 37/50\n",
            "3/3 [==============================] - 1s 231ms/step - loss: 0.0325 - accuracy: 1.0000 - val_loss: 0.0382 - val_accuracy: 1.0000\n",
            "Epoch 38/50\n",
            "3/3 [==============================] - 1s 235ms/step - loss: 0.0300 - accuracy: 1.0000 - val_loss: 0.0372 - val_accuracy: 1.0000\n",
            "Epoch 39/50\n",
            "3/3 [==============================] - 1s 226ms/step - loss: 0.0304 - accuracy: 1.0000 - val_loss: 0.0363 - val_accuracy: 1.0000\n",
            "Epoch 40/50\n",
            "3/3 [==============================] - 1s 235ms/step - loss: 0.0280 - accuracy: 1.0000 - val_loss: 0.0354 - val_accuracy: 1.0000\n",
            "Epoch 41/50\n",
            "3/3 [==============================] - 1s 234ms/step - loss: 0.0285 - accuracy: 1.0000 - val_loss: 0.0345 - val_accuracy: 1.0000\n",
            "Epoch 42/50\n",
            "3/3 [==============================] - 1s 228ms/step - loss: 0.0262 - accuracy: 1.0000 - val_loss: 0.0336 - val_accuracy: 1.0000\n",
            "Epoch 43/50\n",
            "3/3 [==============================] - 1s 231ms/step - loss: 0.0250 - accuracy: 1.0000 - val_loss: 0.0328 - val_accuracy: 1.0000\n",
            "Epoch 44/50\n",
            "3/3 [==============================] - 1s 236ms/step - loss: 0.0243 - accuracy: 1.0000 - val_loss: 0.0321 - val_accuracy: 1.0000\n",
            "Epoch 45/50\n",
            "3/3 [==============================] - 1s 227ms/step - loss: 0.0246 - accuracy: 1.0000 - val_loss: 0.0313 - val_accuracy: 1.0000\n",
            "Epoch 46/50\n",
            "3/3 [==============================] - 1s 227ms/step - loss: 0.0233 - accuracy: 1.0000 - val_loss: 0.0306 - val_accuracy: 1.0000\n",
            "Epoch 47/50\n",
            "3/3 [==============================] - 1s 242ms/step - loss: 0.0222 - accuracy: 1.0000 - val_loss: 0.0300 - val_accuracy: 1.0000\n",
            "Epoch 48/50\n",
            "3/3 [==============================] - 1s 226ms/step - loss: 0.0225 - accuracy: 1.0000 - val_loss: 0.0294 - val_accuracy: 1.0000\n",
            "Epoch 49/50\n",
            "3/3 [==============================] - 1s 229ms/step - loss: 0.0208 - accuracy: 1.0000 - val_loss: 0.0288 - val_accuracy: 1.0000\n",
            "Epoch 50/50\n",
            "3/3 [==============================] - 1s 227ms/step - loss: 0.0248 - accuracy: 1.0000 - val_loss: 0.0282 - val_accuracy: 1.0000\n"
          ]
        }
      ]
    },
    {
      "cell_type": "code",
      "metadata": {
        "colab": {
          "base_uri": "https://localhost:8080/"
        },
        "id": "XqzLU4cxA7_o",
        "outputId": "23bbe612-2d55-4279-d98f-948471e83726"
      },
      "source": [
        "model_1.evaluate(test_data)"
      ],
      "execution_count": null,
      "outputs": [
        {
          "output_type": "stream",
          "name": "stdout",
          "text": [
            "1/1 [==============================] - 0s 246ms/step - loss: 0.0282 - accuracy: 1.0000\n"
          ]
        },
        {
          "output_type": "execute_result",
          "data": {
            "text/plain": [
              "[0.02824988216161728, 1.0]"
            ]
          },
          "metadata": {},
          "execution_count": 70
        }
      ]
    },
    {
      "cell_type": "code",
      "metadata": {
        "id": "rbqcguLpBaYb"
      },
      "source": [
        ""
      ],
      "execution_count": null,
      "outputs": []
    }
  ]
}