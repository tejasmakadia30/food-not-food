{
  "nbformat": 4,
  "nbformat_minor": 0,
  "metadata": {
    "colab": {
      "name": "Model_building.ipynb",
      "provenance": [],
      "collapsed_sections": [],
      "mount_file_id": "1tFGYZHzqioi-9Lvjic6lvag1gbvWhQLN",
      "authorship_tag": "ABX9TyOJc5ywPZ1FWMl/+f/wXacs"
    },
    "kernelspec": {
      "name": "python3",
      "display_name": "Python 3"
    },
    "language_info": {
      "name": "python"
    },
    "accelerator": "GPU",
    "widgets": {
      "application/vnd.jupyter.widget-state+json": {
        "29a8c48db8604ac89966ac798935ceaa": {
          "model_module": "@jupyter-widgets/controls",
          "model_name": "VBoxModel",
          "model_module_version": "1.5.0",
          "state": {
            "_view_name": "VBoxView",
            "_dom_classes": [],
            "_model_name": "VBoxModel",
            "_view_module": "@jupyter-widgets/controls",
            "_model_module_version": "1.5.0",
            "_view_count": null,
            "_view_module_version": "1.5.0",
            "box_style": "",
            "layout": "IPY_MODEL_76fe83fc26454f2ebc6c403e00f8e992",
            "_model_module": "@jupyter-widgets/controls",
            "children": [
              "IPY_MODEL_b42e1dec3d5c43c2b6d4764add5cfa39",
              "IPY_MODEL_0aab7d8b39da4197961a0cf6d625ee0a"
            ]
          }
        },
        "76fe83fc26454f2ebc6c403e00f8e992": {
          "model_module": "@jupyter-widgets/base",
          "model_name": "LayoutModel",
          "model_module_version": "1.2.0",
          "state": {
            "_view_name": "LayoutView",
            "grid_template_rows": null,
            "right": null,
            "justify_content": null,
            "_view_module": "@jupyter-widgets/base",
            "overflow": null,
            "_model_module_version": "1.2.0",
            "_view_count": null,
            "flex_flow": null,
            "width": null,
            "min_width": null,
            "border": null,
            "align_items": null,
            "bottom": null,
            "_model_module": "@jupyter-widgets/base",
            "top": null,
            "grid_column": null,
            "overflow_y": null,
            "overflow_x": null,
            "grid_auto_flow": null,
            "grid_area": null,
            "grid_template_columns": null,
            "flex": null,
            "_model_name": "LayoutModel",
            "justify_items": null,
            "grid_row": null,
            "max_height": null,
            "align_content": null,
            "visibility": null,
            "align_self": null,
            "height": null,
            "min_height": null,
            "padding": null,
            "grid_auto_rows": null,
            "grid_gap": null,
            "max_width": null,
            "order": null,
            "_view_module_version": "1.2.0",
            "grid_template_areas": null,
            "object_position": null,
            "object_fit": null,
            "grid_auto_columns": null,
            "margin": null,
            "display": null,
            "left": null
          }
        },
        "b42e1dec3d5c43c2b6d4764add5cfa39": {
          "model_module": "@jupyter-widgets/controls",
          "model_name": "LabelModel",
          "model_module_version": "1.5.0",
          "state": {
            "_view_name": "LabelView",
            "style": "IPY_MODEL_736d1f9d8dc347be8d4ce32b4c2cd413",
            "_dom_classes": [],
            "description": "",
            "_model_name": "LabelModel",
            "placeholder": "​",
            "_view_module": "@jupyter-widgets/controls",
            "_model_module_version": "1.5.0",
            "value": " 0.90MB of 0.90MB uploaded (0.00MB deduped)\r",
            "_view_count": null,
            "_view_module_version": "1.5.0",
            "description_tooltip": null,
            "_model_module": "@jupyter-widgets/controls",
            "layout": "IPY_MODEL_cf6c658e8b964a7a9a2c74ea71d77e94"
          }
        },
        "0aab7d8b39da4197961a0cf6d625ee0a": {
          "model_module": "@jupyter-widgets/controls",
          "model_name": "FloatProgressModel",
          "model_module_version": "1.5.0",
          "state": {
            "_view_name": "ProgressView",
            "style": "IPY_MODEL_7122d0f94d88442696395a2a5f86b3c6",
            "_dom_classes": [],
            "description": "",
            "_model_name": "FloatProgressModel",
            "bar_style": "",
            "max": 1,
            "_view_module": "@jupyter-widgets/controls",
            "_model_module_version": "1.5.0",
            "value": 1,
            "_view_count": null,
            "_view_module_version": "1.5.0",
            "orientation": "horizontal",
            "min": 0,
            "description_tooltip": null,
            "_model_module": "@jupyter-widgets/controls",
            "layout": "IPY_MODEL_e604dc18fe5844aea4febeea7a546dc5"
          }
        },
        "736d1f9d8dc347be8d4ce32b4c2cd413": {
          "model_module": "@jupyter-widgets/controls",
          "model_name": "DescriptionStyleModel",
          "model_module_version": "1.5.0",
          "state": {
            "_view_name": "StyleView",
            "_model_name": "DescriptionStyleModel",
            "description_width": "",
            "_view_module": "@jupyter-widgets/base",
            "_model_module_version": "1.5.0",
            "_view_count": null,
            "_view_module_version": "1.2.0",
            "_model_module": "@jupyter-widgets/controls"
          }
        },
        "cf6c658e8b964a7a9a2c74ea71d77e94": {
          "model_module": "@jupyter-widgets/base",
          "model_name": "LayoutModel",
          "model_module_version": "1.2.0",
          "state": {
            "_view_name": "LayoutView",
            "grid_template_rows": null,
            "right": null,
            "justify_content": null,
            "_view_module": "@jupyter-widgets/base",
            "overflow": null,
            "_model_module_version": "1.2.0",
            "_view_count": null,
            "flex_flow": null,
            "width": null,
            "min_width": null,
            "border": null,
            "align_items": null,
            "bottom": null,
            "_model_module": "@jupyter-widgets/base",
            "top": null,
            "grid_column": null,
            "overflow_y": null,
            "overflow_x": null,
            "grid_auto_flow": null,
            "grid_area": null,
            "grid_template_columns": null,
            "flex": null,
            "_model_name": "LayoutModel",
            "justify_items": null,
            "grid_row": null,
            "max_height": null,
            "align_content": null,
            "visibility": null,
            "align_self": null,
            "height": null,
            "min_height": null,
            "padding": null,
            "grid_auto_rows": null,
            "grid_gap": null,
            "max_width": null,
            "order": null,
            "_view_module_version": "1.2.0",
            "grid_template_areas": null,
            "object_position": null,
            "object_fit": null,
            "grid_auto_columns": null,
            "margin": null,
            "display": null,
            "left": null
          }
        },
        "7122d0f94d88442696395a2a5f86b3c6": {
          "model_module": "@jupyter-widgets/controls",
          "model_name": "ProgressStyleModel",
          "model_module_version": "1.5.0",
          "state": {
            "_view_name": "StyleView",
            "_model_name": "ProgressStyleModel",
            "description_width": "",
            "_view_module": "@jupyter-widgets/base",
            "_model_module_version": "1.5.0",
            "_view_count": null,
            "_view_module_version": "1.2.0",
            "bar_color": null,
            "_model_module": "@jupyter-widgets/controls"
          }
        },
        "e604dc18fe5844aea4febeea7a546dc5": {
          "model_module": "@jupyter-widgets/base",
          "model_name": "LayoutModel",
          "model_module_version": "1.2.0",
          "state": {
            "_view_name": "LayoutView",
            "grid_template_rows": null,
            "right": null,
            "justify_content": null,
            "_view_module": "@jupyter-widgets/base",
            "overflow": null,
            "_model_module_version": "1.2.0",
            "_view_count": null,
            "flex_flow": null,
            "width": null,
            "min_width": null,
            "border": null,
            "align_items": null,
            "bottom": null,
            "_model_module": "@jupyter-widgets/base",
            "top": null,
            "grid_column": null,
            "overflow_y": null,
            "overflow_x": null,
            "grid_auto_flow": null,
            "grid_area": null,
            "grid_template_columns": null,
            "flex": null,
            "_model_name": "LayoutModel",
            "justify_items": null,
            "grid_row": null,
            "max_height": null,
            "align_content": null,
            "visibility": null,
            "align_self": null,
            "height": null,
            "min_height": null,
            "padding": null,
            "grid_auto_rows": null,
            "grid_gap": null,
            "max_width": null,
            "order": null,
            "_view_module_version": "1.2.0",
            "grid_template_areas": null,
            "object_position": null,
            "object_fit": null,
            "grid_auto_columns": null,
            "margin": null,
            "display": null,
            "left": null
          }
        }
      }
    }
  },
  "cells": [
    {
      "cell_type": "code",
      "metadata": {
        "id": "0by4obEE1aCb"
      },
      "source": [
        "import tensorflow as tf\n"
      ],
      "execution_count": null,
      "outputs": []
    },
    {
      "cell_type": "code",
      "metadata": {
        "colab": {
          "base_uri": "https://localhost:8080/"
        },
        "id": "gq3-tC-q1tPZ",
        "outputId": "f760b924-c049-4fa7-fcef-1376ca61ce1f"
      },
      "source": [
        "tf.config.list_physical_devices()"
      ],
      "execution_count": null,
      "outputs": [
        {
          "output_type": "execute_result",
          "data": {
            "text/plain": [
              "[PhysicalDevice(name='/physical_device:CPU:0', device_type='CPU'),\n",
              " PhysicalDevice(name='/physical_device:GPU:0', device_type='GPU')]"
            ]
          },
          "metadata": {},
          "execution_count": 2
        }
      ]
    },
    {
      "cell_type": "code",
      "metadata": {
        "id": "N0p-gbFc_i2V"
      },
      "source": [
        "# !cp -r /content/drive/MyDrive/ML/Food-Not-Food/images/imagenet_images/imagenet_images/atom_bomb  /content/drive/MyDrive/ML/Food-Not-Food/images/modal_test_images"
      ],
      "execution_count": null,
      "outputs": []
    },
    {
      "cell_type": "code",
      "metadata": {
        "id": "Z6PHcl0_Cjcv"
      },
      "source": [
        "import os\n",
        "for dirs,sub_dirs, files in os.walk(\"/content/drive/MyDrive/ML/Food-Not-Food/images/modal_test_images\"):\n",
        "  print(dirs)\n",
        "  print(sub_dirs)\n",
        "  print(files)"
      ],
      "execution_count": null,
      "outputs": []
    },
    {
      "cell_type": "markdown",
      "metadata": {
        "id": "-PSVaz9cGoaK"
      },
      "source": [
        "# Create train & test"
      ]
    },
    {
      "cell_type": "code",
      "metadata": {
        "id": "Snf6wFn1GJl_"
      },
      "source": [
        "#!mkdir /content/drive/MyDrive/ML/Food-Not-Food/images/modal_test_images/train\n",
        "#!mkdir /content/drive/MyDrive/ML/Food-Not-Food/images/modal_test_images/test"
      ],
      "execution_count": null,
      "outputs": []
    },
    {
      "cell_type": "code",
      "metadata": {
        "colab": {
          "base_uri": "https://localhost:8080/"
        },
        "id": "Z0XTHm24G5Hk",
        "outputId": "fcc79df3-b030-40cc-8a02-d7ff1d774640"
      },
      "source": [
        "atom_bomb = os.listdir(\"/content/drive/MyDrive/ML/Food-Not-Food/images/modal_test_images\")\n",
        "len(atom_bomb)"
      ],
      "execution_count": null,
      "outputs": [
        {
          "output_type": "execute_result",
          "data": {
            "text/plain": [
              "2"
            ]
          },
          "metadata": {},
          "execution_count": 9
        }
      ]
    },
    {
      "cell_type": "code",
      "metadata": {
        "id": "cPDFj3SMHkPn"
      },
      "source": [
        "import random\n",
        "def create_train_test_list(target_dir):\n",
        "  random.seed(44)\n",
        "  image_list = [os.path.join(target_dir, img_path) for img_path in os.listdir(target_dir)]\n",
        "  train_split = int(0.8 * len(image_list))\n",
        "  train_image_list = random.sample(image_list, train_split)\n",
        "  test_image_list = list(set(image_list).difference(set(train_image_list)))\n",
        "  return train_image_list, test_image_list\n",
        "\n",
        "\n"
      ],
      "execution_count": null,
      "outputs": []
    },
    {
      "cell_type": "code",
      "metadata": {
        "colab": {
          "base_uri": "https://localhost:8080/",
          "height": 171
        },
        "id": "1X3EJhv9HTU9",
        "outputId": "85d3fd63-11a6-4228-d0a4-0c4068b114ba"
      },
      "source": [
        "len(train_image_list), len(test_image_list)"
      ],
      "execution_count": null,
      "outputs": [
        {
          "output_type": "error",
          "ename": "NameError",
          "evalue": "ignored",
          "traceback": [
            "\u001b[0;31m---------------------------------------------------------------------------\u001b[0m",
            "\u001b[0;31mNameError\u001b[0m                                 Traceback (most recent call last)",
            "\u001b[0;32m<ipython-input-11-450b5d380d5b>\u001b[0m in \u001b[0;36m<module>\u001b[0;34m()\u001b[0m\n\u001b[0;32m----> 1\u001b[0;31m \u001b[0mlen\u001b[0m\u001b[0;34m(\u001b[0m\u001b[0mtrain_image_list\u001b[0m\u001b[0;34m)\u001b[0m\u001b[0;34m,\u001b[0m \u001b[0mlen\u001b[0m\u001b[0;34m(\u001b[0m\u001b[0mtest_image_list\u001b[0m\u001b[0;34m)\u001b[0m\u001b[0;34m\u001b[0m\u001b[0;34m\u001b[0m\u001b[0m\n\u001b[0m",
            "\u001b[0;31mNameError\u001b[0m: name 'train_image_list' is not defined"
          ]
        }
      ]
    },
    {
      "cell_type": "code",
      "metadata": {
        "id": "VMxguua7VBuo"
      },
      "source": [
        "def copy_images_to_file(img_path_list, target_dir, train = True):\n",
        "    if train:\n",
        "      split_dir = \"train\"\n",
        "      \n",
        "    else:\n",
        "      split_dir = \"test\"\n",
        "      \n",
        "      \n",
        "\n",
        "#copy images\n",
        "    for image_path in img_path_list:\n",
        "      image_file_name = os.path.split(image_path)[-1]\n",
        "      dest_path = os.path.join(target_dir, split_dir, image_dir, image_file_name)\n",
        "      print(f\"Copying: \\n{image_path} to \\n{dest_path}\")\n",
        "      copy2(image_path, dest_path)"
      ],
      "execution_count": null,
      "outputs": []
    },
    {
      "cell_type": "code",
      "metadata": {
        "colab": {
          "base_uri": "https://localhost:8080/"
        },
        "id": "aGfurbJ5Hhb1",
        "outputId": "7f152a80-b5b4-403e-cba4-a5c63a57dcb8"
      },
      "source": [
        "from shutil import copy2\n",
        "data_dir = \"/content/drive/MyDrive/ML/Food-Not-Food/images/modal_test_images\"\n",
        "target_dir = \"/content/drive/MyDrive/ML/Food-Not-Food/images/modal_test_image_split\"\n",
        "for image_dir in os.listdir(data_dir):\n",
        "  #print(image_dir)\n",
        "  for split_dir in [\"train\", \"test\"]:\n",
        "    os.makedirs(os.path.join(target_dir, split_dir, image_dir), exist_ok=True)\n",
        "  #print(os.path.join(data_dir + '/' + image_dir))\n",
        "  train_image_list, test_image_list = create_train_test_list(os.path.join(data_dir +'/'+ image_dir))\n",
        "  #print(len(train_image_list), len(test_image_list))\n",
        "  #print(train_image_list[:6])\n",
        "\n",
        "  copy_images_to_file(img_path_list = train_image_list,\n",
        "                      target_dir = target_dir,\n",
        "                      train = True)\n",
        "  \n",
        "  copy_images_to_file(img_path_list = test_image_list,\n",
        "                      target_dir = target_dir,\n",
        "                      train = False)\n",
        "\n",
        "  # copy train images\n",
        "  \n",
        "\n",
        "  \n",
        "#"
      ],
      "execution_count": null,
      "outputs": [
        {
          "output_type": "stream",
          "name": "stdout",
          "text": [
            "Copying: \n",
            "/content/drive/MyDrive/ML/Food-Not-Food/images/modal_test_images/bird/379660714_7aa46feb3b.jpg to \n",
            "/content/drive/MyDrive/ML/Food-Not-Food/images/modal_test_image_split/train/bird/379660714_7aa46feb3b.jpg\n",
            "Copying: \n",
            "/content/drive/MyDrive/ML/Food-Not-Food/images/modal_test_images/bird/2726745791_4fb571690a.jpg to \n",
            "/content/drive/MyDrive/ML/Food-Not-Food/images/modal_test_image_split/train/bird/2726745791_4fb571690a.jpg\n",
            "Copying: \n",
            "/content/drive/MyDrive/ML/Food-Not-Food/images/modal_test_images/bird/1346173304_598a278dc9.jpg to \n",
            "/content/drive/MyDrive/ML/Food-Not-Food/images/modal_test_image_split/train/bird/1346173304_598a278dc9.jpg\n",
            "Copying: \n",
            "/content/drive/MyDrive/ML/Food-Not-Food/images/modal_test_images/bird/377566194_d3e6b74713.jpg to \n",
            "/content/drive/MyDrive/ML/Food-Not-Food/images/modal_test_image_split/train/bird/377566194_d3e6b74713.jpg\n",
            "Copying: \n",
            "/content/drive/MyDrive/ML/Food-Not-Food/images/modal_test_images/bird/1535999699_5aa329ae62.jpg to \n",
            "/content/drive/MyDrive/ML/Food-Not-Food/images/modal_test_image_split/train/bird/1535999699_5aa329ae62.jpg\n",
            "Copying: \n",
            "/content/drive/MyDrive/ML/Food-Not-Food/images/modal_test_images/bird/94863900_a07816cab1.jpg to \n",
            "/content/drive/MyDrive/ML/Food-Not-Food/images/modal_test_image_split/train/bird/94863900_a07816cab1.jpg\n",
            "Copying: \n",
            "/content/drive/MyDrive/ML/Food-Not-Food/images/modal_test_images/bird/251850225_8774355449.jpg to \n",
            "/content/drive/MyDrive/ML/Food-Not-Food/images/modal_test_image_split/train/bird/251850225_8774355449.jpg\n",
            "Copying: \n",
            "/content/drive/MyDrive/ML/Food-Not-Food/images/modal_test_images/bird/2308831578_1e99fe0272.jpg to \n",
            "/content/drive/MyDrive/ML/Food-Not-Food/images/modal_test_image_split/train/bird/2308831578_1e99fe0272.jpg\n",
            "Copying: \n",
            "/content/drive/MyDrive/ML/Food-Not-Food/images/modal_test_images/bird/1552527337_6f819e3a3e.jpg to \n",
            "/content/drive/MyDrive/ML/Food-Not-Food/images/modal_test_image_split/train/bird/1552527337_6f819e3a3e.jpg\n",
            "Copying: \n",
            "/content/drive/MyDrive/ML/Food-Not-Food/images/modal_test_images/bird/172543629_1348b94a60.jpg to \n",
            "/content/drive/MyDrive/ML/Food-Not-Food/images/modal_test_image_split/train/bird/172543629_1348b94a60.jpg\n",
            "Copying: \n",
            "/content/drive/MyDrive/ML/Food-Not-Food/images/modal_test_images/bird/500985703_b8d1047ee1.jpg to \n",
            "/content/drive/MyDrive/ML/Food-Not-Food/images/modal_test_image_split/train/bird/500985703_b8d1047ee1.jpg\n",
            "Copying: \n",
            "/content/drive/MyDrive/ML/Food-Not-Food/images/modal_test_images/bird/1799523732_f019a93d03.jpg to \n",
            "/content/drive/MyDrive/ML/Food-Not-Food/images/modal_test_image_split/train/bird/1799523732_f019a93d03.jpg\n",
            "Copying: \n",
            "/content/drive/MyDrive/ML/Food-Not-Food/images/modal_test_images/bird/2479149926_a667d68142.jpg to \n",
            "/content/drive/MyDrive/ML/Food-Not-Food/images/modal_test_image_split/train/bird/2479149926_a667d68142.jpg\n",
            "Copying: \n",
            "/content/drive/MyDrive/ML/Food-Not-Food/images/modal_test_images/bird/2629966818_cff116c8e0.jpg to \n",
            "/content/drive/MyDrive/ML/Food-Not-Food/images/modal_test_image_split/train/bird/2629966818_cff116c8e0.jpg\n",
            "Copying: \n",
            "/content/drive/MyDrive/ML/Food-Not-Food/images/modal_test_images/bird/2425290519_2a508fb03a.jpg to \n",
            "/content/drive/MyDrive/ML/Food-Not-Food/images/modal_test_image_split/train/bird/2425290519_2a508fb03a.jpg\n",
            "Copying: \n",
            "/content/drive/MyDrive/ML/Food-Not-Food/images/modal_test_images/bird/2425909833_e251a97836.jpg to \n",
            "/content/drive/MyDrive/ML/Food-Not-Food/images/modal_test_image_split/train/bird/2425909833_e251a97836.jpg\n",
            "Copying: \n",
            "/content/drive/MyDrive/ML/Food-Not-Food/images/modal_test_images/bird/387558823_c26c46fe4d.jpg to \n",
            "/content/drive/MyDrive/ML/Food-Not-Food/images/modal_test_image_split/train/bird/387558823_c26c46fe4d.jpg\n",
            "Copying: \n",
            "/content/drive/MyDrive/ML/Food-Not-Food/images/modal_test_images/bird/244922475_5fb510f285.jpg to \n",
            "/content/drive/MyDrive/ML/Food-Not-Food/images/modal_test_image_split/train/bird/244922475_5fb510f285.jpg\n",
            "Copying: \n",
            "/content/drive/MyDrive/ML/Food-Not-Food/images/modal_test_images/bird/2635077894_3ee21c9a1a.jpg to \n",
            "/content/drive/MyDrive/ML/Food-Not-Food/images/modal_test_image_split/train/bird/2635077894_3ee21c9a1a.jpg\n",
            "Copying: \n",
            "/content/drive/MyDrive/ML/Food-Not-Food/images/modal_test_images/bird/426166282_48e53510c7.jpg to \n",
            "/content/drive/MyDrive/ML/Food-Not-Food/images/modal_test_image_split/train/bird/426166282_48e53510c7.jpg\n",
            "Copying: \n",
            "/content/drive/MyDrive/ML/Food-Not-Food/images/modal_test_images/bird/850245972_3aa47add6e.jpg to \n",
            "/content/drive/MyDrive/ML/Food-Not-Food/images/modal_test_image_split/train/bird/850245972_3aa47add6e.jpg\n",
            "Copying: \n",
            "/content/drive/MyDrive/ML/Food-Not-Food/images/modal_test_images/bird/99750039_ac8d305e94.jpg to \n",
            "/content/drive/MyDrive/ML/Food-Not-Food/images/modal_test_image_split/train/bird/99750039_ac8d305e94.jpg\n",
            "Copying: \n",
            "/content/drive/MyDrive/ML/Food-Not-Food/images/modal_test_images/bird/387329324_16c805ed30.jpg to \n",
            "/content/drive/MyDrive/ML/Food-Not-Food/images/modal_test_image_split/train/bird/387329324_16c805ed30.jpg\n",
            "Copying: \n",
            "/content/drive/MyDrive/ML/Food-Not-Food/images/modal_test_images/bird/473832397_e4d5d7ca86.jpg to \n",
            "/content/drive/MyDrive/ML/Food-Not-Food/images/modal_test_image_split/train/bird/473832397_e4d5d7ca86.jpg\n",
            "Copying: \n",
            "/content/drive/MyDrive/ML/Food-Not-Food/images/modal_test_images/bird/429232689_651615cc88.jpg to \n",
            "/content/drive/MyDrive/ML/Food-Not-Food/images/modal_test_image_split/train/bird/429232689_651615cc88.jpg\n",
            "Copying: \n",
            "/content/drive/MyDrive/ML/Food-Not-Food/images/modal_test_images/bird/2595805254_df10dc7c8a.jpg to \n",
            "/content/drive/MyDrive/ML/Food-Not-Food/images/modal_test_image_split/train/bird/2595805254_df10dc7c8a.jpg\n",
            "Copying: \n",
            "/content/drive/MyDrive/ML/Food-Not-Food/images/modal_test_images/bird/1676749946_2847d53ed6.jpg to \n",
            "/content/drive/MyDrive/ML/Food-Not-Food/images/modal_test_image_split/train/bird/1676749946_2847d53ed6.jpg\n",
            "Copying: \n",
            "/content/drive/MyDrive/ML/Food-Not-Food/images/modal_test_images/bird/424963920_20beb6b91a.jpg to \n",
            "/content/drive/MyDrive/ML/Food-Not-Food/images/modal_test_image_split/train/bird/424963920_20beb6b91a.jpg\n",
            "Copying: \n",
            "/content/drive/MyDrive/ML/Food-Not-Food/images/modal_test_images/bird/2665244628_1b96f661fb.jpg to \n",
            "/content/drive/MyDrive/ML/Food-Not-Food/images/modal_test_image_split/train/bird/2665244628_1b96f661fb.jpg\n",
            "Copying: \n",
            "/content/drive/MyDrive/ML/Food-Not-Food/images/modal_test_images/bird/2393254614_3b3594f4c4.jpg to \n",
            "/content/drive/MyDrive/ML/Food-Not-Food/images/modal_test_image_split/train/bird/2393254614_3b3594f4c4.jpg\n",
            "Copying: \n",
            "/content/drive/MyDrive/ML/Food-Not-Food/images/modal_test_images/bird/2316755112_aaf81f1bec_o.jpg to \n",
            "/content/drive/MyDrive/ML/Food-Not-Food/images/modal_test_image_split/train/bird/2316755112_aaf81f1bec_o.jpg\n",
            "Copying: \n",
            "/content/drive/MyDrive/ML/Food-Not-Food/images/modal_test_images/bird/2588448211_e6ac815d41.jpg to \n",
            "/content/drive/MyDrive/ML/Food-Not-Food/images/modal_test_image_split/train/bird/2588448211_e6ac815d41.jpg\n",
            "Copying: \n",
            "/content/drive/MyDrive/ML/Food-Not-Food/images/modal_test_images/bird/181183568_7fc10b0d44.jpg to \n",
            "/content/drive/MyDrive/ML/Food-Not-Food/images/modal_test_image_split/train/bird/181183568_7fc10b0d44.jpg\n",
            "Copying: \n",
            "/content/drive/MyDrive/ML/Food-Not-Food/images/modal_test_images/bird/2743499893_bda09587fd_o.jpg to \n",
            "/content/drive/MyDrive/ML/Food-Not-Food/images/modal_test_image_split/train/bird/2743499893_bda09587fd_o.jpg\n",
            "Copying: \n",
            "/content/drive/MyDrive/ML/Food-Not-Food/images/modal_test_images/bird/399352012_040fc5fb0b.jpg to \n",
            "/content/drive/MyDrive/ML/Food-Not-Food/images/modal_test_image_split/train/bird/399352012_040fc5fb0b.jpg\n",
            "Copying: \n",
            "/content/drive/MyDrive/ML/Food-Not-Food/images/modal_test_images/bird/123135554_efa4b73df4.jpg to \n",
            "/content/drive/MyDrive/ML/Food-Not-Food/images/modal_test_image_split/train/bird/123135554_efa4b73df4.jpg\n",
            "Copying: \n",
            "/content/drive/MyDrive/ML/Food-Not-Food/images/modal_test_images/bird/2676904527_1f5febb5b4.jpg to \n",
            "/content/drive/MyDrive/ML/Food-Not-Food/images/modal_test_image_split/train/bird/2676904527_1f5febb5b4.jpg\n",
            "Copying: \n",
            "/content/drive/MyDrive/ML/Food-Not-Food/images/modal_test_images/bird/1057480368_e4f1e7860c.jpg to \n",
            "/content/drive/MyDrive/ML/Food-Not-Food/images/modal_test_image_split/train/bird/1057480368_e4f1e7860c.jpg\n",
            "Copying: \n",
            "/content/drive/MyDrive/ML/Food-Not-Food/images/modal_test_images/bird/2385368260_56a188b778.jpg to \n",
            "/content/drive/MyDrive/ML/Food-Not-Food/images/modal_test_image_split/train/bird/2385368260_56a188b778.jpg\n",
            "Copying: \n",
            "/content/drive/MyDrive/ML/Food-Not-Food/images/modal_test_images/bird/2009233818_43d01e043f.jpg to \n",
            "/content/drive/MyDrive/ML/Food-Not-Food/images/modal_test_image_split/train/bird/2009233818_43d01e043f.jpg\n",
            "Copying: \n",
            "/content/drive/MyDrive/ML/Food-Not-Food/images/modal_test_images/bird/229985597_342744391b.jpg to \n",
            "/content/drive/MyDrive/ML/Food-Not-Food/images/modal_test_image_split/train/bird/229985597_342744391b.jpg\n",
            "Copying: \n",
            "/content/drive/MyDrive/ML/Food-Not-Food/images/modal_test_images/bird/2566827665_97ef5919e7.jpg to \n",
            "/content/drive/MyDrive/ML/Food-Not-Food/images/modal_test_image_split/train/bird/2566827665_97ef5919e7.jpg\n",
            "Copying: \n",
            "/content/drive/MyDrive/ML/Food-Not-Food/images/modal_test_images/bird/1440471419_a188c2276c.jpg to \n",
            "/content/drive/MyDrive/ML/Food-Not-Food/images/modal_test_image_split/train/bird/1440471419_a188c2276c.jpg\n",
            "Copying: \n",
            "/content/drive/MyDrive/ML/Food-Not-Food/images/modal_test_images/bird/2496744379_954c9fd8da.jpg to \n",
            "/content/drive/MyDrive/ML/Food-Not-Food/images/modal_test_image_split/test/bird/2496744379_954c9fd8da.jpg\n",
            "Copying: \n",
            "/content/drive/MyDrive/ML/Food-Not-Food/images/modal_test_images/bird/2790549725_ff34bd31b6.jpg to \n",
            "/content/drive/MyDrive/ML/Food-Not-Food/images/modal_test_image_split/test/bird/2790549725_ff34bd31b6.jpg\n",
            "Copying: \n",
            "/content/drive/MyDrive/ML/Food-Not-Food/images/modal_test_images/bird/246106087_63f1a3ee04.jpg to \n",
            "/content/drive/MyDrive/ML/Food-Not-Food/images/modal_test_image_split/test/bird/246106087_63f1a3ee04.jpg\n",
            "Copying: \n",
            "/content/drive/MyDrive/ML/Food-Not-Food/images/modal_test_images/bird/375445469_064d429363.jpg to \n",
            "/content/drive/MyDrive/ML/Food-Not-Food/images/modal_test_image_split/test/bird/375445469_064d429363.jpg\n",
            "Copying: \n",
            "/content/drive/MyDrive/ML/Food-Not-Food/images/modal_test_images/bird/1040486717_6500c16ce2.jpg to \n",
            "/content/drive/MyDrive/ML/Food-Not-Food/images/modal_test_image_split/test/bird/1040486717_6500c16ce2.jpg\n",
            "Copying: \n",
            "/content/drive/MyDrive/ML/Food-Not-Food/images/modal_test_images/bird/443738091_113fa2dd3a.jpg to \n",
            "/content/drive/MyDrive/ML/Food-Not-Food/images/modal_test_image_split/test/bird/443738091_113fa2dd3a.jpg\n",
            "Copying: \n",
            "/content/drive/MyDrive/ML/Food-Not-Food/images/modal_test_images/bird/229147185_771882f156.jpg to \n",
            "/content/drive/MyDrive/ML/Food-Not-Food/images/modal_test_image_split/test/bird/229147185_771882f156.jpg\n",
            "Copying: \n",
            "/content/drive/MyDrive/ML/Food-Not-Food/images/modal_test_images/bird/297707075_82701fd153.jpg to \n",
            "/content/drive/MyDrive/ML/Food-Not-Food/images/modal_test_image_split/test/bird/297707075_82701fd153.jpg\n",
            "Copying: \n",
            "/content/drive/MyDrive/ML/Food-Not-Food/images/modal_test_images/bird/373783045_47ea5d9e5c.jpg to \n",
            "/content/drive/MyDrive/ML/Food-Not-Food/images/modal_test_image_split/test/bird/373783045_47ea5d9e5c.jpg\n",
            "Copying: \n",
            "/content/drive/MyDrive/ML/Food-Not-Food/images/modal_test_images/bird/12041632_1308a4e968.jpg to \n",
            "/content/drive/MyDrive/ML/Food-Not-Food/images/modal_test_image_split/test/bird/12041632_1308a4e968.jpg\n",
            "Copying: \n",
            "/content/drive/MyDrive/ML/Food-Not-Food/images/modal_test_images/bird/426166255_a0b250bfcf.jpg to \n",
            "/content/drive/MyDrive/ML/Food-Not-Food/images/modal_test_image_split/test/bird/426166255_a0b250bfcf.jpg\n",
            "Copying: \n",
            "/content/drive/MyDrive/ML/Food-Not-Food/images/modal_test_images/atom_bomb/494042500_5376c8a54a.jpg to \n",
            "/content/drive/MyDrive/ML/Food-Not-Food/images/modal_test_image_split/train/atom_bomb/494042500_5376c8a54a.jpg\n",
            "Copying: \n",
            "/content/drive/MyDrive/ML/Food-Not-Food/images/modal_test_images/atom_bomb/2862423204_c5386d5cb0.jpg to \n",
            "/content/drive/MyDrive/ML/Food-Not-Food/images/modal_test_image_split/train/atom_bomb/2862423204_c5386d5cb0.jpg\n",
            "Copying: \n",
            "/content/drive/MyDrive/ML/Food-Not-Food/images/modal_test_images/atom_bomb/2500628519_19845baf76.jpg to \n",
            "/content/drive/MyDrive/ML/Food-Not-Food/images/modal_test_image_split/train/atom_bomb/2500628519_19845baf76.jpg\n",
            "Copying: \n",
            "/content/drive/MyDrive/ML/Food-Not-Food/images/modal_test_images/atom_bomb/3299061572_a61a657ec1.jpg to \n",
            "/content/drive/MyDrive/ML/Food-Not-Food/images/modal_test_image_split/train/atom_bomb/3299061572_a61a657ec1.jpg\n",
            "Copying: \n",
            "/content/drive/MyDrive/ML/Food-Not-Food/images/modal_test_images/atom_bomb/66569704_e9b4a20f49.jpg to \n",
            "/content/drive/MyDrive/ML/Food-Not-Food/images/modal_test_image_split/train/atom_bomb/66569704_e9b4a20f49.jpg\n",
            "Copying: \n",
            "/content/drive/MyDrive/ML/Food-Not-Food/images/modal_test_images/atom_bomb/2862423290_62bea79c98.jpg to \n",
            "/content/drive/MyDrive/ML/Food-Not-Food/images/modal_test_image_split/train/atom_bomb/2862423290_62bea79c98.jpg\n",
            "Copying: \n",
            "/content/drive/MyDrive/ML/Food-Not-Food/images/modal_test_images/atom_bomb/3010595252_fdfd87216c.jpg to \n",
            "/content/drive/MyDrive/ML/Food-Not-Food/images/modal_test_image_split/train/atom_bomb/3010595252_fdfd87216c.jpg\n",
            "Copying: \n",
            "/content/drive/MyDrive/ML/Food-Not-Food/images/modal_test_images/atom_bomb/118542548_765e05e018.jpg to \n",
            "/content/drive/MyDrive/ML/Food-Not-Food/images/modal_test_image_split/train/atom_bomb/118542548_765e05e018.jpg\n",
            "Copying: \n",
            "/content/drive/MyDrive/ML/Food-Not-Food/images/modal_test_images/atom_bomb/519445038_794bd79376.jpg to \n",
            "/content/drive/MyDrive/ML/Food-Not-Food/images/modal_test_image_split/train/atom_bomb/519445038_794bd79376.jpg\n",
            "Copying: \n",
            "/content/drive/MyDrive/ML/Food-Not-Food/images/modal_test_images/atom_bomb/49800334_f1ec0b509e.jpg to \n",
            "/content/drive/MyDrive/ML/Food-Not-Food/images/modal_test_image_split/train/atom_bomb/49800334_f1ec0b509e.jpg\n",
            "Copying: \n",
            "/content/drive/MyDrive/ML/Food-Not-Food/images/modal_test_images/atom_bomb/2450933623_18d7ba3d5c.jpg to \n",
            "/content/drive/MyDrive/ML/Food-Not-Food/images/modal_test_image_split/train/atom_bomb/2450933623_18d7ba3d5c.jpg\n",
            "Copying: \n",
            "/content/drive/MyDrive/ML/Food-Not-Food/images/modal_test_images/atom_bomb/66571814_a0c2d467ed.jpg to \n",
            "/content/drive/MyDrive/ML/Food-Not-Food/images/modal_test_image_split/train/atom_bomb/66571814_a0c2d467ed.jpg\n",
            "Copying: \n",
            "/content/drive/MyDrive/ML/Food-Not-Food/images/modal_test_images/atom_bomb/499355094_69300f6930.jpg to \n",
            "/content/drive/MyDrive/ML/Food-Not-Food/images/modal_test_image_split/train/atom_bomb/499355094_69300f6930.jpg\n",
            "Copying: \n",
            "/content/drive/MyDrive/ML/Food-Not-Food/images/modal_test_images/atom_bomb/49800354_260df62ac3.jpg to \n",
            "/content/drive/MyDrive/ML/Food-Not-Food/images/modal_test_image_split/train/atom_bomb/49800354_260df62ac3.jpg\n",
            "Copying: \n",
            "/content/drive/MyDrive/ML/Food-Not-Food/images/modal_test_images/atom_bomb/2711024490_bbd7f0514b.jpg to \n",
            "/content/drive/MyDrive/ML/Food-Not-Food/images/modal_test_image_split/train/atom_bomb/2711024490_bbd7f0514b.jpg\n",
            "Copying: \n",
            "/content/drive/MyDrive/ML/Food-Not-Food/images/modal_test_images/atom_bomb/2789292136_1e7a82194a.jpg to \n",
            "/content/drive/MyDrive/ML/Food-Not-Food/images/modal_test_image_split/train/atom_bomb/2789292136_1e7a82194a.jpg\n",
            "Copying: \n",
            "/content/drive/MyDrive/ML/Food-Not-Food/images/modal_test_images/atom_bomb/66570340_8e91d2ff12.jpg to \n",
            "/content/drive/MyDrive/ML/Food-Not-Food/images/modal_test_image_split/train/atom_bomb/66570340_8e91d2ff12.jpg\n",
            "Copying: \n",
            "/content/drive/MyDrive/ML/Food-Not-Food/images/modal_test_images/atom_bomb/2381957105_e88d41b4bb_o.jpg to \n",
            "/content/drive/MyDrive/ML/Food-Not-Food/images/modal_test_image_split/train/atom_bomb/2381957105_e88d41b4bb_o.jpg\n",
            "Copying: \n",
            "/content/drive/MyDrive/ML/Food-Not-Food/images/modal_test_images/atom_bomb/1720910261_0ca6a39033.jpg to \n",
            "/content/drive/MyDrive/ML/Food-Not-Food/images/modal_test_image_split/train/atom_bomb/1720910261_0ca6a39033.jpg\n",
            "Copying: \n",
            "/content/drive/MyDrive/ML/Food-Not-Food/images/modal_test_images/atom_bomb/2183903256_b5160f6f0a.jpg to \n",
            "/content/drive/MyDrive/ML/Food-Not-Food/images/modal_test_image_split/train/atom_bomb/2183903256_b5160f6f0a.jpg\n",
            "Copying: \n",
            "/content/drive/MyDrive/ML/Food-Not-Food/images/modal_test_images/atom_bomb/1928795683_1d4f19131a.jpg to \n",
            "/content/drive/MyDrive/ML/Food-Not-Food/images/modal_test_image_split/train/atom_bomb/1928795683_1d4f19131a.jpg\n",
            "Copying: \n",
            "/content/drive/MyDrive/ML/Food-Not-Food/images/modal_test_images/atom_bomb/1861148468_1a8408921b.jpg to \n",
            "/content/drive/MyDrive/ML/Food-Not-Food/images/modal_test_image_split/train/atom_bomb/1861148468_1a8408921b.jpg\n",
            "Copying: \n",
            "/content/drive/MyDrive/ML/Food-Not-Food/images/modal_test_images/atom_bomb/451943379_c87909e9d6.jpg to \n",
            "/content/drive/MyDrive/ML/Food-Not-Food/images/modal_test_image_split/train/atom_bomb/451943379_c87909e9d6.jpg\n",
            "Copying: \n",
            "/content/drive/MyDrive/ML/Food-Not-Food/images/modal_test_images/atom_bomb/1938560259_731bed807b.jpg to \n",
            "/content/drive/MyDrive/ML/Food-Not-Food/images/modal_test_image_split/train/atom_bomb/1938560259_731bed807b.jpg\n",
            "Copying: \n",
            "/content/drive/MyDrive/ML/Food-Not-Food/images/modal_test_images/atom_bomb/293644207_b997436fb2.jpg to \n",
            "/content/drive/MyDrive/ML/Food-Not-Food/images/modal_test_image_split/train/atom_bomb/293644207_b997436fb2.jpg\n",
            "Copying: \n",
            "/content/drive/MyDrive/ML/Food-Not-Food/images/modal_test_images/atom_bomb/491839085_81adeb8ce3.jpg to \n",
            "/content/drive/MyDrive/ML/Food-Not-Food/images/modal_test_image_split/train/atom_bomb/491839085_81adeb8ce3.jpg\n",
            "Copying: \n",
            "/content/drive/MyDrive/ML/Food-Not-Food/images/modal_test_images/atom_bomb/499463007_7efe2d79d9.jpg to \n",
            "/content/drive/MyDrive/ML/Food-Not-Food/images/modal_test_image_split/train/atom_bomb/499463007_7efe2d79d9.jpg\n",
            "Copying: \n",
            "/content/drive/MyDrive/ML/Food-Not-Food/images/modal_test_images/atom_bomb/66570900_53974d3894.jpg to \n",
            "/content/drive/MyDrive/ML/Food-Not-Food/images/modal_test_image_split/train/atom_bomb/66570900_53974d3894.jpg\n",
            "Copying: \n",
            "/content/drive/MyDrive/ML/Food-Not-Food/images/modal_test_images/atom_bomb/2390762359_dee59bdb95.jpg to \n",
            "/content/drive/MyDrive/ML/Food-Not-Food/images/modal_test_image_split/train/atom_bomb/2390762359_dee59bdb95.jpg\n",
            "Copying: \n",
            "/content/drive/MyDrive/ML/Food-Not-Food/images/modal_test_images/atom_bomb/688474183_8ccee2bb03.jpg to \n",
            "/content/drive/MyDrive/ML/Food-Not-Food/images/modal_test_image_split/train/atom_bomb/688474183_8ccee2bb03.jpg\n",
            "Copying: \n",
            "/content/drive/MyDrive/ML/Food-Not-Food/images/modal_test_images/atom_bomb/2627936623_070e3c3438_o.jpg to \n",
            "/content/drive/MyDrive/ML/Food-Not-Food/images/modal_test_image_split/train/atom_bomb/2627936623_070e3c3438_o.jpg\n",
            "Copying: \n",
            "/content/drive/MyDrive/ML/Food-Not-Food/images/modal_test_images/atom_bomb/128394907_f328f45782.jpg to \n",
            "/content/drive/MyDrive/ML/Food-Not-Food/images/modal_test_image_split/train/atom_bomb/128394907_f328f45782.jpg\n",
            "Copying: \n",
            "/content/drive/MyDrive/ML/Food-Not-Food/images/modal_test_images/atom_bomb/536150728_d7d8b54cf7.jpg to \n",
            "/content/drive/MyDrive/ML/Food-Not-Food/images/modal_test_image_split/train/atom_bomb/536150728_d7d8b54cf7.jpg\n",
            "Copying: \n",
            "/content/drive/MyDrive/ML/Food-Not-Food/images/modal_test_images/atom_bomb/292323265_4ab498bca4.jpg to \n",
            "/content/drive/MyDrive/ML/Food-Not-Food/images/modal_test_image_split/train/atom_bomb/292323265_4ab498bca4.jpg\n",
            "Copying: \n",
            "/content/drive/MyDrive/ML/Food-Not-Food/images/modal_test_images/atom_bomb/463098676_3c87797dea.jpg to \n",
            "/content/drive/MyDrive/ML/Food-Not-Food/images/modal_test_image_split/train/atom_bomb/463098676_3c87797dea.jpg\n",
            "Copying: \n",
            "/content/drive/MyDrive/ML/Food-Not-Food/images/modal_test_images/atom_bomb/2756095593_e29697517b.jpg to \n",
            "/content/drive/MyDrive/ML/Food-Not-Food/images/modal_test_image_split/train/atom_bomb/2756095593_e29697517b.jpg\n",
            "Copying: \n",
            "/content/drive/MyDrive/ML/Food-Not-Food/images/modal_test_images/atom_bomb/499360896_ac6a10499e.jpg to \n",
            "/content/drive/MyDrive/ML/Food-Not-Food/images/modal_test_image_split/train/atom_bomb/499360896_ac6a10499e.jpg\n",
            "Copying: \n",
            "/content/drive/MyDrive/ML/Food-Not-Food/images/modal_test_images/atom_bomb/1027354662_1ecc4c5073.jpg to \n",
            "/content/drive/MyDrive/ML/Food-Not-Food/images/modal_test_image_split/train/atom_bomb/1027354662_1ecc4c5073.jpg\n",
            "Copying: \n",
            "/content/drive/MyDrive/ML/Food-Not-Food/images/modal_test_images/atom_bomb/2046798276_3447aca29f.jpg to \n",
            "/content/drive/MyDrive/ML/Food-Not-Food/images/modal_test_image_split/train/atom_bomb/2046798276_3447aca29f.jpg\n",
            "Copying: \n",
            "/content/drive/MyDrive/ML/Food-Not-Food/images/modal_test_images/atom_bomb/3078289414_84dcebe3bf.jpg to \n",
            "/content/drive/MyDrive/ML/Food-Not-Food/images/modal_test_image_split/train/atom_bomb/3078289414_84dcebe3bf.jpg\n",
            "Copying: \n",
            "/content/drive/MyDrive/ML/Food-Not-Food/images/modal_test_images/atom_bomb/2253288471_f8cb16bda0.jpg to \n",
            "/content/drive/MyDrive/ML/Food-Not-Food/images/modal_test_image_split/train/atom_bomb/2253288471_f8cb16bda0.jpg\n",
            "Copying: \n",
            "/content/drive/MyDrive/ML/Food-Not-Food/images/modal_test_images/atom_bomb/3782837346_cf29e47100.jpg to \n",
            "/content/drive/MyDrive/ML/Food-Not-Food/images/modal_test_image_split/train/atom_bomb/3782837346_cf29e47100.jpg\n",
            "Copying: \n",
            "/content/drive/MyDrive/ML/Food-Not-Food/images/modal_test_images/atom_bomb/2705616364_32d49c43cc.jpg to \n",
            "/content/drive/MyDrive/ML/Food-Not-Food/images/modal_test_image_split/train/atom_bomb/2705616364_32d49c43cc.jpg\n",
            "Copying: \n",
            "/content/drive/MyDrive/ML/Food-Not-Food/images/modal_test_images/atom_bomb/66569550_0474912a5f.jpg to \n",
            "/content/drive/MyDrive/ML/Food-Not-Food/images/modal_test_image_split/train/atom_bomb/66569550_0474912a5f.jpg\n",
            "Copying: \n",
            "/content/drive/MyDrive/ML/Food-Not-Food/images/modal_test_images/atom_bomb/1457501155_0235b3b728.jpg to \n",
            "/content/drive/MyDrive/ML/Food-Not-Food/images/modal_test_image_split/test/atom_bomb/1457501155_0235b3b728.jpg\n",
            "Copying: \n",
            "/content/drive/MyDrive/ML/Food-Not-Food/images/modal_test_images/atom_bomb/2601547715_d87643d69d.jpg to \n",
            "/content/drive/MyDrive/ML/Food-Not-Food/images/modal_test_image_split/test/atom_bomb/2601547715_d87643d69d.jpg\n",
            "Copying: \n",
            "/content/drive/MyDrive/ML/Food-Not-Food/images/modal_test_images/atom_bomb/2373936401_42c5a4d4eb.jpg to \n",
            "/content/drive/MyDrive/ML/Food-Not-Food/images/modal_test_image_split/test/atom_bomb/2373936401_42c5a4d4eb.jpg\n",
            "Copying: \n",
            "/content/drive/MyDrive/ML/Food-Not-Food/images/modal_test_images/atom_bomb/310609771_600496efc2.jpg to \n",
            "/content/drive/MyDrive/ML/Food-Not-Food/images/modal_test_image_split/test/atom_bomb/310609771_600496efc2.jpg\n",
            "Copying: \n",
            "/content/drive/MyDrive/ML/Food-Not-Food/images/modal_test_images/atom_bomb/2344313901_5d5efb6a4c.jpg to \n",
            "/content/drive/MyDrive/ML/Food-Not-Food/images/modal_test_image_split/test/atom_bomb/2344313901_5d5efb6a4c.jpg\n",
            "Copying: \n",
            "/content/drive/MyDrive/ML/Food-Not-Food/images/modal_test_images/atom_bomb/52843923_cb7f50de2f.jpg to \n",
            "/content/drive/MyDrive/ML/Food-Not-Food/images/modal_test_image_split/test/atom_bomb/52843923_cb7f50de2f.jpg\n",
            "Copying: \n",
            "/content/drive/MyDrive/ML/Food-Not-Food/images/modal_test_images/atom_bomb/181188628_6e2912c157.jpg to \n",
            "/content/drive/MyDrive/ML/Food-Not-Food/images/modal_test_image_split/test/atom_bomb/181188628_6e2912c157.jpg\n",
            "Copying: \n",
            "/content/drive/MyDrive/ML/Food-Not-Food/images/modal_test_images/atom_bomb/2880117505_0b3d839357.jpg to \n",
            "/content/drive/MyDrive/ML/Food-Not-Food/images/modal_test_image_split/test/atom_bomb/2880117505_0b3d839357.jpg\n",
            "Copying: \n",
            "/content/drive/MyDrive/ML/Food-Not-Food/images/modal_test_images/atom_bomb/484671252_505911f91f.jpg to \n",
            "/content/drive/MyDrive/ML/Food-Not-Food/images/modal_test_image_split/test/atom_bomb/484671252_505911f91f.jpg\n",
            "Copying: \n",
            "/content/drive/MyDrive/ML/Food-Not-Food/images/modal_test_images/atom_bomb/2569046367_1dfbe4b95c.jpg to \n",
            "/content/drive/MyDrive/ML/Food-Not-Food/images/modal_test_image_split/test/atom_bomb/2569046367_1dfbe4b95c.jpg\n",
            "Copying: \n",
            "/content/drive/MyDrive/ML/Food-Not-Food/images/modal_test_images/atom_bomb/2519124828_5df1b8e535.jpg to \n",
            "/content/drive/MyDrive/ML/Food-Not-Food/images/modal_test_image_split/test/atom_bomb/2519124828_5df1b8e535.jpg\n"
          ]
        }
      ]
    },
    {
      "cell_type": "code",
      "metadata": {
        "id": "SlNqrz99N8gx"
      },
      "source": [
        "import tensorflow as tf\n"
      ],
      "execution_count": null,
      "outputs": []
    },
    {
      "cell_type": "code",
      "metadata": {
        "colab": {
          "base_uri": "https://localhost:8080/"
        },
        "id": "2fyn8JnCmKjA",
        "outputId": "866a6d1b-2959-4197-c088-6849331fec99"
      },
      "source": [
        "train_dir = \"/content/drive/MyDrive/ML/Food-Not-Food/images/train\"\n",
        "test_dir = \"/content/drive/MyDrive/ML/Food-Not-Food/images/test\"\n",
        "\n",
        "train_dir, test_dir"
      ],
      "execution_count": null,
      "outputs": [
        {
          "output_type": "execute_result",
          "data": {
            "text/plain": [
              "('/content/drive/MyDrive/ML/Food-Not-Food/images/train',\n",
              " '/content/drive/MyDrive/ML/Food-Not-Food/images/test')"
            ]
          },
          "metadata": {},
          "execution_count": 7
        }
      ]
    },
    {
      "cell_type": "code",
      "metadata": {
        "colab": {
          "base_uri": "https://localhost:8080/"
        },
        "id": "_OZZGgJt3h4D",
        "outputId": "fd3a6ddd-1103-46df-bcb0-f8b51aacd697"
      },
      "source": [
        "total_samples = len(os.listdir(train_dir))\n",
        "num_food_samples = len(os.listdir(os.path.join(train_dir, \"food-images\")))\n",
        "num_non_food_samples = len(os.listdir(os.path.join(train_dir, \"non-food-images\")))\n",
        "total_samples, num_food_samples, num_non_food_samples"
      ],
      "execution_count": null,
      "outputs": [
        {
          "output_type": "execute_result",
          "data": {
            "text/plain": [
              "(2, 1347, 20580)"
            ]
          },
          "metadata": {},
          "execution_count": 25
        }
      ]
    },
    {
      "cell_type": "code",
      "metadata": {
        "colab": {
          "base_uri": "https://localhost:8080/"
        },
        "id": "r7Q-s6RX3rI1",
        "outputId": "00e53508-1137-4b88-faf3-100bbb5d3925"
      },
      "source": [
        "(1 / num_food_samples) * (total_samples / 2.0), (1 / num_non_food_samples) * (total_samples / 2.0)"
      ],
      "execution_count": null,
      "outputs": [
        {
          "output_type": "execute_result",
          "data": {
            "text/plain": [
              "(0.0007423904974016332, 4.859086491739553e-05)"
            ]
          },
          "metadata": {},
          "execution_count": 26
        }
      ]
    },
    {
      "cell_type": "code",
      "metadata": {
        "colab": {
          "base_uri": "https://localhost:8080/"
        },
        "id": "qLiTlBEb3yuj",
        "outputId": "787bae84-5a31-421f-fbc2-9207a22511db"
      },
      "source": [
        "weight_for_0 = (1 / num_food_samples) * (total_samples / 2.0)\n",
        "weight_for_1 = (1 / num_non_food_samples) * (total_samples / 2.0)\n",
        "\n",
        "class_weight = {0: weight_for_0, 1: weight_for_1}\n",
        "\n",
        "print(f'Weight for class 0: {weight_for_0}')\n",
        "print(f'Weight for class 1: {weight_for_1}')"
      ],
      "execution_count": null,
      "outputs": [
        {
          "output_type": "stream",
          "name": "stdout",
          "text": [
            "Weight for class 0: 0.0007423904974016332\n",
            "Weight for class 1: 4.859086491739553e-05\n"
          ]
        }
      ]
    },
    {
      "cell_type": "code",
      "metadata": {
        "colab": {
          "base_uri": "https://localhost:8080/"
        },
        "id": "hnM71qUQmgam",
        "outputId": "2c401af6-0a4e-45c8-e3ef-f654041436b8"
      },
      "source": [
        "# Load in data\n",
        "train_data = tf.keras.preprocessing.image_dataset_from_directory(train_dir,\n",
        "                                                                 batch_size = 32,\n",
        "                                                                 image_size = (224,224))\n",
        "\n",
        "test_data = tf.keras.preprocessing.image_dataset_from_directory(test_dir,\n",
        "                                                                batch_size = 32,\n",
        "                                                                image_size = (224, 224))\n",
        "\n",
        "train_data, test_data"
      ],
      "execution_count": null,
      "outputs": [
        {
          "output_type": "stream",
          "name": "stdout",
          "text": [
            "Found 21848 files belonging to 2 classes.\n",
            "Found 21848 files belonging to 2 classes.\n"
          ]
        },
        {
          "output_type": "execute_result",
          "data": {
            "text/plain": [
              "(<BatchDataset shapes: ((None, 224, 224, 3), (None,)), types: (tf.float32, tf.int32)>,\n",
              " <BatchDataset shapes: ((None, 224, 224, 3), (None,)), types: (tf.float32, tf.int32)>)"
            ]
          },
          "metadata": {},
          "execution_count": 28
        }
      ]
    },
    {
      "cell_type": "markdown",
      "metadata": {
        "id": "b1xXCq9OnePu"
      },
      "source": [
        "# First Model"
      ]
    },
    {
      "cell_type": "code",
      "metadata": {
        "id": "kV0lWDgwnJgo"
      },
      "source": [
        "train_data = train_data.prefetch(tf.data.AUTOTUNE)\n",
        "test_data = test_data.prefetch(tf.data.AUTOTUNE)\n"
      ],
      "execution_count": null,
      "outputs": []
    },
    {
      "cell_type": "code",
      "metadata": {
        "colab": {
          "base_uri": "https://localhost:8080/"
        },
        "id": "lI09mNrgnrwn",
        "outputId": "ef9fadd2-4b02-4bb6-bf0f-a42aacec3a9f"
      },
      "source": [
        "base_model = tf.keras.applications.EfficientNetB0(include_top = False)\n",
        "base_model.trainable = False\n",
        "\n",
        "# Build a functional model\n",
        "input_layer = tf.keras.layers.Input(shape = (224, 224, 3))\n",
        "x = base_model(input_layer)\n",
        "x = tf.keras.layers.GlobalAveragePooling2D()(x)\n",
        "output_layer = tf.keras.layers.Dense(1, activation=\"sigmoid\")(x)\n",
        "\n",
        "# Construct model\n",
        "model_1 = tf.keras.Model(input_layer, output_layer, name = \"EffNetB0-V2\")\n",
        "model_1"
      ],
      "execution_count": null,
      "outputs": [
        {
          "output_type": "execute_result",
          "data": {
            "text/plain": [
              "<keras.engine.functional.Functional at 0x7ef976842c10>"
            ]
          },
          "metadata": {},
          "execution_count": 30
        }
      ]
    },
    {
      "cell_type": "code",
      "metadata": {
        "colab": {
          "base_uri": "https://localhost:8080/",
          "height": 422
        },
        "id": "gGlkjbGnoLiI",
        "outputId": "bd51f8c8-f3fc-4eb3-d953-86d2f80ac949"
      },
      "source": [
        "tf.keras.utils.plot_model(model_1, show_shapes=True)"
      ],
      "execution_count": null,
      "outputs": [
        {
          "output_type": "execute_result",
          "data": {
            "image/png": "[encoded data removed]",
            "text/plain": [
              "<IPython.core.display.Image object>"
            ]
          },
          "metadata": {},
          "execution_count": 31
        }
      ]
    },
    {
      "cell_type": "code",
      "metadata": {
        "colab": {
          "base_uri": "https://localhost:8080/"
        },
        "id": "hcT5wVfdrA3d",
        "outputId": "bb70d838-af88-4d82-8ec9-65d123783253"
      },
      "source": [
        "!pip install wandb\n",
        "\n",
        "# Get helper_functions.py script from course GitHub\n",
        "!wget https://raw.githubusercontent.com/mrdbourke/tensorflow-deep-learning/main/extras/helper_functions.py \n",
        "\n",
        "# Import helper functions we're going to use\n",
        "from helper_functions import create_tensorboard_callback, plot_loss_curves, unzip_data, walk_through_dir"
      ],
      "execution_count": null,
      "outputs": [
        {
          "output_type": "stream",
          "name": "stdout",
          "text": [
            "Requirement already satisfied: wandb in /usr/local/lib/python3.7/dist-packages (0.12.7)\n",
            "Requirement already satisfied: pathtools in /usr/local/lib/python3.7/dist-packages (from wandb) (0.1.2)\n",
            "Requirement already satisfied: subprocess32>=3.5.3 in /usr/local/lib/python3.7/dist-packages (from wandb) (3.5.4)\n",
            "Requirement already satisfied: yaspin>=1.0.0 in /usr/local/lib/python3.7/dist-packages (from wandb) (2.1.0)\n",
            "Requirement already satisfied: GitPython>=1.0.0 in /usr/local/lib/python3.7/dist-packages (from wandb) (3.1.24)\n",
            "Requirement already satisfied: docker-pycreds>=0.4.0 in /usr/local/lib/python3.7/dist-packages (from wandb) (0.4.0)\n",
            "Requirement already satisfied: configparser>=3.8.1 in /usr/local/lib/python3.7/dist-packages (from wandb) (5.1.0)\n",
            "Requirement already satisfied: Click!=8.0.0,>=7.0 in /usr/local/lib/python3.7/dist-packages (from wandb) (7.1.2)\n",
            "Requirement already satisfied: six>=1.13.0 in /usr/local/lib/python3.7/dist-packages (from wandb) (1.15.0)\n",
            "Requirement already satisfied: PyYAML in /usr/local/lib/python3.7/dist-packages (from wandb) (3.13)\n",
            "Requirement already satisfied: requests<3,>=2.0.0 in /usr/local/lib/python3.7/dist-packages (from wandb) (2.23.0)\n",
            "Requirement already satisfied: psutil>=5.0.0 in /usr/local/lib/python3.7/dist-packages (from wandb) (5.4.8)\n",
            "Requirement already satisfied: shortuuid>=0.5.0 in /usr/local/lib/python3.7/dist-packages (from wandb) (1.0.8)\n",
            "Requirement already satisfied: sentry-sdk>=1.0.0 in /usr/local/lib/python3.7/dist-packages (from wandb) (1.5.0)\n",
            "Requirement already satisfied: python-dateutil>=2.6.1 in /usr/local/lib/python3.7/dist-packages (from wandb) (2.8.2)\n",
            "Requirement already satisfied: protobuf>=3.12.0 in /usr/local/lib/python3.7/dist-packages (from wandb) (3.17.3)\n",
            "Requirement already satisfied: promise<3,>=2.0 in /usr/local/lib/python3.7/dist-packages (from wandb) (2.3)\n",
            "Requirement already satisfied: typing-extensions>=3.7.4.3 in /usr/local/lib/python3.7/dist-packages (from GitPython>=1.0.0->wandb) (3.10.0.2)\n",
            "Requirement already satisfied: gitdb<5,>=4.0.1 in /usr/local/lib/python3.7/dist-packages (from GitPython>=1.0.0->wandb) (4.0.9)\n",
            "Requirement already satisfied: smmap<6,>=3.0.1 in /usr/local/lib/python3.7/dist-packages (from gitdb<5,>=4.0.1->GitPython>=1.0.0->wandb) (5.0.0)\n",
            "Requirement already satisfied: idna<3,>=2.5 in /usr/local/lib/python3.7/dist-packages (from requests<3,>=2.0.0->wandb) (2.10)\n",
            "Requirement already satisfied: chardet<4,>=3.0.2 in /usr/local/lib/python3.7/dist-packages (from requests<3,>=2.0.0->wandb) (3.0.4)\n",
            "Requirement already satisfied: certifi>=2017.4.17 in /usr/local/lib/python3.7/dist-packages (from requests<3,>=2.0.0->wandb) (2021.10.8)\n",
            "Requirement already satisfied: urllib3!=1.25.0,!=1.25.1,<1.26,>=1.21.1 in /usr/local/lib/python3.7/dist-packages (from requests<3,>=2.0.0->wandb) (1.24.3)\n",
            "Requirement already satisfied: termcolor<2.0.0,>=1.1.0 in /usr/local/lib/python3.7/dist-packages (from yaspin>=1.0.0->wandb) (1.1.0)\n",
            "--2021-12-01 16:44:34--  https://raw.githubusercontent.com/mrdbourke/tensorflow-deep-learning/main/extras/helper_functions.py\n",
            "Resolving raw.githubusercontent.com (raw.githubusercontent.com)... 185.199.108.133, 185.199.109.133, 185.199.110.133, ...\n",
            "Connecting to raw.githubusercontent.com (raw.githubusercontent.com)|185.199.108.133|:443... connected.\n",
            "HTTP request sent, awaiting response... 200 OK\n",
            "Length: 10246 (10K) [text/plain]\n",
            "Saving to: ‘helper_functions.py.1’\n",
            "\n",
            "helper_functions.py 100%[===================>]  10.01K  --.-KB/s    in 0s      \n",
            "\n",
            "2021-12-01 16:44:34 (57.9 MB/s) - ‘helper_functions.py.1’ saved [10246/10246]\n",
            "\n"
          ]
        }
      ]
    },
    {
      "cell_type": "code",
      "metadata": {
        "id": "UAkI7YtSr_C-",
        "colab": {
          "base_uri": "https://localhost:8080/"
        },
        "outputId": "016396d4-fef8-48d4-eebb-f99cfb8cbe90"
      },
      "source": [
        "import wandb\n",
        "\n",
        "wandb.login()"
      ],
      "execution_count": null,
      "outputs": [
        {
          "output_type": "stream",
          "name": "stderr",
          "text": [
            "\u001b[34m\u001b[1mwandb\u001b[0m: \u001b[33mWARNING\u001b[0m Calling wandb.login() after wandb.init() has no effect.\n"
          ]
        },
        {
          "output_type": "execute_result",
          "data": {
            "text/plain": [
              "True"
            ]
          },
          "metadata": {},
          "execution_count": 33
        }
      ]
    },
    {
      "cell_type": "code",
      "metadata": {
        "id": "Fe5ipN_4Icpg"
      },
      "source": [
        "#!tensorboard --logdir logs"
      ],
      "execution_count": null,
      "outputs": []
    },
    {
      "cell_type": "code",
      "metadata": {
        "id": "jsPWTgU6sIbK",
        "colab": {
          "base_uri": "https://localhost:8080/",
          "height": 465,
          "referenced_widgets": [
            "29a8c48db8604ac89966ac798935ceaa",
            "76fe83fc26454f2ebc6c403e00f8e992",
            "b42e1dec3d5c43c2b6d4764add5cfa39",
            "0aab7d8b39da4197961a0cf6d625ee0a",
            "736d1f9d8dc347be8d4ce32b4c2cd413",
            "cf6c658e8b964a7a9a2c74ea71d77e94",
            "7122d0f94d88442696395a2a5f86b3c6",
            "e604dc18fe5844aea4febeea7a546dc5"
          ]
        },
        "outputId": "75f31af7-203a-4a7a-ca46-2f6ad32257b1"
      },
      "source": [
        "#wandb.tensorboard.patch(root_logdir=\"/content/drive/MyDrive/ML/Food-Not-Food/logs\")\n",
        "wandb.init(project=\"food-not-food\", entity=\"tejas_makadia\", sync_tensorboard=True)"
      ],
      "execution_count": null,
      "outputs": [
        {
          "output_type": "display_data",
          "data": {
            "text/html": [
              "Finishing last run (ID:29jwm0sg) before initializing another..."
            ],
            "text/plain": [
              "<IPython.core.display.HTML object>"
            ]
          },
          "metadata": {}
        },
        {
          "output_type": "display_data",
          "data": {
            "text/html": [
              "<br/>Waiting for W&B process to finish, PID 442... <strong style=\"color:green\">(success).</strong>"
            ],
            "text/plain": [
              "<IPython.core.display.HTML object>"
            ]
          },
          "metadata": {}
        },
        {
          "output_type": "display_data",
          "data": {
            "application/vnd.jupyter.widget-view+json": {
              "model_id": "29a8c48db8604ac89966ac798935ceaa",
              "version_minor": 0,
              "version_major": 2
            },
            "text/plain": [
              "VBox(children=(Label(value=' 0.89MB of 0.89MB uploaded (0.00MB deduped)\\r'), FloatProgress(value=1.0, max=1.0)…"
            ]
          },
          "metadata": {}
        },
        {
          "output_type": "display_data",
          "data": {
            "text/html": [
              "<style>\n",
              "    table.wandb td:nth-child(1) { padding: 0 10px; text-align: right }\n",
              "    .wandb-row { display: flex; flex-direction: row; flex-wrap: wrap; width: 100% }\n",
              "    .wandb-col { display: flex; flex-direction: column; flex-basis: 100%; flex: 1; padding: 10px; }\n",
              "    </style>\n",
              "<div class=\"wandb-row\"><div class=\"wandb-col\">\n",
              "<h3>Run history:</h3><br/><table class=\"wandb\"><tr><td>global_step</td><td>▁▂▄▄▅▅▅▇▇█</td></tr><tr><td>train/epoch_accuracy</td><td>▁▆▇██</td></tr><tr><td>train/epoch_loss</td><td>█▃▂▁▁</td></tr><tr><td>train/global_step</td><td>▁▁▃▅▆█</td></tr><tr><td>validation/epoch_accuracy</td><td>▁▄▆▇█</td></tr><tr><td>validation/epoch_loss</td><td>█▅▃▂▁</td></tr><tr><td>validation/evaluation_accuracy_vs_iterations</td><td>▁▄▆▇█</td></tr><tr><td>validation/evaluation_loss_vs_iterations</td><td>█▅▃▂▁</td></tr><tr><td>validation/global_step</td><td>▁▃▅▆█</td></tr></table><br/></div><div class=\"wandb-col\">\n",
              "<h3>Run summary:</h3><br/><table class=\"wandb\"><tr><td>global_step</td><td>3415</td></tr><tr><td>train/epoch_accuracy</td><td>0.9529</td></tr><tr><td>train/epoch_loss</td><td>0.14039</td></tr><tr><td>train/global_step</td><td>4</td></tr><tr><td>validation/epoch_accuracy</td><td>0.95748</td></tr><tr><td>validation/epoch_loss</td><td>0.1277</td></tr><tr><td>validation/evaluation_accuracy_vs_iterations</td><td>0.95748</td></tr><tr><td>validation/evaluation_loss_vs_iterations</td><td>0.1277</td></tr><tr><td>validation/global_step</td><td>4</td></tr></table>\n",
              "</div></div>\n",
              "Synced 5 W&B file(s), 0 media file(s), 0 artifact file(s) and 2 other file(s)\n",
              "<br/>Synced <strong style=\"color:#cdcd00\">hardy-serenity-11</strong>: <a href=\"https://wandb.ai/tejas_makadia/food-not-food/runs/29jwm0sg\" target=\"_blank\">https://wandb.ai/tejas_makadia/food-not-food/runs/29jwm0sg</a><br/>\n",
              "Find logs at: <code>./wandb/run-20211201_134337-29jwm0sg/logs</code><br/>\n"
            ],
            "text/plain": [
              "<IPython.core.display.HTML object>"
            ]
          },
          "metadata": {}
        },
        {
          "output_type": "display_data",
          "data": {
            "text/html": [
              "Successfully finished last run (ID:29jwm0sg). Initializing new run:<br/>"
            ],
            "text/plain": [
              "<IPython.core.display.HTML object>"
            ]
          },
          "metadata": {}
        },
        {
          "output_type": "display_data",
          "data": {
            "text/html": [
              "\n",
              "                    Syncing run <strong><a href=\"https://wandb.ai/tejas_makadia/food-not-food/runs/35z6pocl\" target=\"_blank\">vital-sponge-12</a></strong> to <a href=\"https://wandb.ai/tejas_makadia/food-not-food\" target=\"_blank\">Weights & Biases</a> (<a href=\"https://docs.wandb.com/integrations/jupyter.html\" target=\"_blank\">docs</a>).<br/>\n",
              "\n",
              "                "
            ],
            "text/plain": [
              "<IPython.core.display.HTML object>"
            ]
          },
          "metadata": {}
        },
        {
          "output_type": "execute_result",
          "data": {
            "text/plain": [
              "<wandb.sdk.wandb_run.Run at 0x7ef9767d7c50>"
            ],
            "text/html": [
              "<button onClick=\"this.nextSibling.style.display='block';this.style.display='none';\">Display W&B run</button><iframe src=\"https://wandb.ai/tejas_makadia/food-not-food/runs/35z6pocl?jupyter=true\" style=\"border:none;width:100%;height:420px;display:none;\"></iframe>"
            ]
          },
          "metadata": {},
          "execution_count": 35
        }
      ]
    },
    {
      "cell_type": "code",
      "metadata": {
        "id": "yr04FUSi9qD0"
      },
      "source": [
        "model_1.compile(loss = tf.keras.losses.BinaryCrossentropy(),\n",
        "              optimizer = tf.keras.optimizers.Adam(),\n",
        "              metrics = ['accuracy'])"
      ],
      "execution_count": null,
      "outputs": []
    },
    {
      "cell_type": "code",
      "metadata": {
        "id": "VQZq3p15AKrH"
      },
      "source": [
        "# create early stopping callback\n",
        "early_stopping = tf.keras.callbacks.EarlyStopping(patience=5,\n",
        "                                                  monitor = 'val_loss')"
      ],
      "execution_count": null,
      "outputs": []
    },
    {
      "cell_type": "code",
      "metadata": {
        "colab": {
          "base_uri": "https://localhost:8080/",
          "height": 36
        },
        "id": "tMODSqTKGFJc",
        "outputId": "714adf97-e0ce-4b63-a30e-a1b7a0de539a"
      },
      "source": [
        "str(model_1.name)"
      ],
      "execution_count": null,
      "outputs": [
        {
          "output_type": "execute_result",
          "data": {
            "application/vnd.google.colaboratory.intrinsic+json": {
              "type": "string"
            },
            "text/plain": [
              "'EffNetB0-V2'"
            ]
          },
          "metadata": {},
          "execution_count": 38
        }
      ]
    },
    {
      "cell_type": "code",
      "metadata": {
        "colab": {
          "base_uri": "https://localhost:8080/"
        },
        "id": "gJV5gVHK_7IZ",
        "outputId": "014015b8-7d79-4bfd-ce7e-1c2e5d2f8a0f"
      },
      "source": [
        "history_1 = model_1.fit(train_data,\n",
        "                        epochs = 5,\n",
        "                        validation_data = test_data,\n",
        "                        callbacks = [early_stopping,\n",
        "                        create_tensorboard_callback(\"logs\", model_1.name)],\n",
        "                        class_weight=class_weight)"
      ],
      "execution_count": null,
      "outputs": [
        {
          "output_type": "stream",
          "name": "stderr",
          "text": [
            "\u001b[34m\u001b[1mwandb\u001b[0m: \u001b[33mWARNING\u001b[0m When using several event log directories, please call wandb.tensorboard.patch(root_logdir=\"...\") before wandb.init\n"
          ]
        },
        {
          "output_type": "stream",
          "name": "stdout",
          "text": [
            "Saving TensorBoard log files to: logs/EffNetB0-V2/20211201-164530\n"
          ]
        },
        {
          "output_type": "stream",
          "name": "stderr",
          "text": [
            "/usr/local/lib/python3.7/dist-packages/keras/engine/functional.py:1410: CustomMaskWarning: Custom mask layers require a config and must override get_config. When loading, the custom mask layer must be passed to the custom_objects argument.\n",
            "  layer_config = serialize_layer_fn(layer)\n"
          ]
        },
        {
          "output_type": "stream",
          "name": "stdout",
          "text": [
            "Epoch 1/5\n",
            "683/683 [==============================] - ETA: 0s - loss: 4.6251e-05 - accuracy: 0.7556"
          ]
        },
        {
          "output_type": "stream",
          "name": "stderr",
          "text": [
            "\u001b[34m\u001b[1mwandb\u001b[0m: \u001b[33mWARNING\u001b[0m When using several event log directories, please call wandb.tensorboard.patch(root_logdir=\"...\") before wandb.init\n"
          ]
        },
        {
          "output_type": "stream",
          "name": "stdout",
          "text": [
            "\b\b\b\b\b\b\b\b\b\b\b\b\b\b\b\b\b\b\b\b\b\b\b\b\b\b\b\b\b\b\b\b\b\b\b\b\b\b\b\b\b\b\b\b\b\b\b\b\b\b\b\b\b\b\b\b\b\b\b\b\b\b\b\b\b\b\b\b\b\b\b\b\b\b\b\b\b\b\b\b\b\b\b\b\b\b\b\b\r683/683 [==============================] - 224s 315ms/step - loss: 4.6251e-05 - accuracy: 0.7556 - val_loss: 0.4279 - val_accuracy: 0.8220\n",
            "Epoch 2/5\n",
            "683/683 [==============================] - 214s 313ms/step - loss: 3.7190e-05 - accuracy: 0.8200 - val_loss: 0.3827 - val_accuracy: 0.8455\n",
            "Epoch 3/5\n",
            "683/683 [==============================] - 215s 314ms/step - loss: 3.4139e-05 - accuracy: 0.8363 - val_loss: 0.3610 - val_accuracy: 0.8552\n",
            "Epoch 4/5\n",
            "683/683 [==============================] - 215s 314ms/step - loss: 3.2508e-05 - accuracy: 0.8415 - val_loss: 0.3394 - val_accuracy: 0.8637\n",
            "Epoch 5/5\n",
            "683/683 [==============================] - 216s 315ms/step - loss: 3.1296e-05 - accuracy: 0.8490 - val_loss: 0.3307 - val_accuracy: 0.8669\n"
          ]
        }
      ]
    },
    {
      "cell_type": "code",
      "metadata": {
        "colab": {
          "base_uri": "https://localhost:8080/"
        },
        "id": "XqzLU4cxA7_o",
        "outputId": "337c917f-9460-4620-dc4e-4aad31a274d6"
      },
      "source": [
        "model_1.evaluate(test_data)"
      ],
      "execution_count": null,
      "outputs": [
        {
          "output_type": "stream",
          "name": "stdout",
          "text": [
            "683/683 [==============================] - 110s 160ms/step - loss: 0.3307 - accuracy: 0.8669\n"
          ]
        },
        {
          "output_type": "execute_result",
          "data": {
            "text/plain": [
              "[0.330693781375885, 0.8668985962867737]"
            ]
          },
          "metadata": {},
          "execution_count": 40
        }
      ]
    },
    {
      "cell_type": "code",
      "metadata": {
        "colab": {
          "base_uri": "https://localhost:8080/"
        },
        "id": "A-gpKN2svndW",
        "outputId": "fd26d043-dc09-46b3-fc4a-724a4c650ead"
      },
      "source": [
        "model_1.save(\"food_not_food_model_v1\")"
      ],
      "execution_count": null,
      "outputs": [
        {
          "output_type": "stream",
          "name": "stdout",
          "text": [
            "INFO:tensorflow:Assets written to: food_not_food_model_v1/assets\n"
          ]
        },
        {
          "output_type": "stream",
          "name": "stderr",
          "text": [
            "INFO:tensorflow:Assets written to: food_not_food_model_v1/assets\n",
            "/usr/local/lib/python3.7/dist-packages/keras/engine/functional.py:1410: CustomMaskWarning: Custom mask layers require a config and must override get_config. When loading, the custom mask layer must be passed to the custom_objects argument.\n",
            "  layer_config = serialize_layer_fn(layer)\n",
            "/usr/local/lib/python3.7/dist-packages/keras/saving/saved_model/layer_serialization.py:112: CustomMaskWarning: Custom mask layers require a config and must override get_config. When loading, the custom mask layer must be passed to the custom_objects argument.\n",
            "  return generic_utils.serialize_keras_object(obj)\n"
          ]
        }
      ]
    },
    {
      "cell_type": "code",
      "metadata": {
        "colab": {
          "base_uri": "https://localhost:8080/"
        },
        "id": "zS-4wquLwvLW",
        "outputId": "e8ef817c-c3e7-4be7-bfb1-8d46a6442c2d"
      },
      "source": [
        "saved_model_dir = \"/content/drive/MyDrive/ML/Food-Not-Food/food_not_food_model_v1\"\n",
        "converter = tf.lite.TFLiteConverter.from_saved_model(saved_model_dir)\n",
        "tflite_model = converter.convert()\n",
        "\n",
        "with open('food_not_food_model_v1.tflite', 'wb') as f:\n",
        "  f.write(tflite_model)"
      ],
      "execution_count": null,
      "outputs": [
        {
          "output_type": "stream",
          "name": "stderr",
          "text": [
            "WARNING:absl:Buffer deduplication procedure will be skipped when flatbuffer library is not properly loaded\n"
          ]
        }
      ]
    },
    {
      "cell_type": "code",
      "metadata": {
        "colab": {
          "base_uri": "https://localhost:8080/"
        },
        "id": "xYe93HU1yFlS",
        "outputId": "01f956c1-7c6a-4548-e551-663aa8f4fa87"
      },
      "source": [
        "!wget https://firebasestorage.googleapis.com/v0/b/food-not-food.appspot.com/o/food_not_food_model_v1.tflite?alt=media&token=8fcb159c-e56e-42e2-8d3a-89db83c5ffd6"
      ],
      "execution_count": null,
      "outputs": [
        {
          "output_type": "stream",
          "name": "stdout",
          "text": [
            "--2021-12-01 17:25:20--  https://firebasestorage.googleapis.com/v0/b/food-not-food.appspot.com/o/food_not_food_model_v1.tflite?alt=media\n",
            "Resolving firebasestorage.googleapis.com (firebasestorage.googleapis.com)... 108.177.111.95, 2607:f8b0:4001:c20::5f\n",
            "Connecting to firebasestorage.googleapis.com (firebasestorage.googleapis.com)|108.177.111.95|:443... connected.\n",
            "HTTP request sent, awaiting response... 403 Forbidden\n",
            "2021-12-01 17:25:20 ERROR 403: Forbidden.\n",
            "\n"
          ]
        }
      ]
    },
    {
      "cell_type": "code",
      "metadata": {
        "colab": {
          "base_uri": "https://localhost:8080/"
        },
        "id": "hp3sWN5GBxEw",
        "outputId": "1e5544f5-9418-4cb2-dfaf-d4cf95a1e0a4"
      },
      "source": [
        "!wget https://firebasestorage.googleapis.com/v0/b/food-not-food.appspot.com/o/food_not_food_model_v1.tflite?alt=media&token=8fcb159c-e56e-42e2-8d3a-89db83c5ffd6"
      ],
      "execution_count": null,
      "outputs": [
        {
          "output_type": "stream",
          "name": "stdout",
          "text": [
            "--2021-12-01 17:36:40--  https://firebasestorage.googleapis.com/v0/b/food-not-food.appspot.com/o/food_not_food_model_v1.tflite?alt=media\n",
            "Resolving firebasestorage.googleapis.com (firebasestorage.googleapis.com)... 142.250.136.95, 2607:f8b0:4001:c0e::5f\n",
            "Connecting to firebasestorage.googleapis.com (firebasestorage.googleapis.com)|142.250.136.95|:443... connected.\n",
            "HTTP request sent, awaiting response... 200 OK\n",
            "Length: 16047204 (15M) [application/octet-stream]\n",
            "Saving to: ‘food_not_food_model_v1.tflite?alt=media’\n",
            "\n",
            "food_not_food_model 100%[===================>]  15.30M  --.-KB/s    in 0.1s    \n",
            "\n",
            "2021-12-01 17:36:41 (112 MB/s) - ‘food_not_food_model_v1.tflite?alt=media’ saved [16047204/16047204]\n",
            "\n"
          ]
        }
      ]
    },
    {
      "cell_type": "code",
      "metadata": {
        "colab": {
          "base_uri": "https://localhost:8080/",
          "height": 134
        },
        "id": "Io902phVCXJz",
        "outputId": "66eab1ae-ab19-4f00-fbcd-6d5300e4a35b"
      },
      "source": [
        "gs://food-not-food.appspot.com/"
      ],
      "execution_count": null,
      "outputs": [
        {
          "output_type": "error",
          "ename": "SyntaxError",
          "evalue": "ignored",
          "traceback": [
            "\u001b[0;36m  File \u001b[0;32m\"<ipython-input-48-9fa7052883d9>\"\u001b[0;36m, line \u001b[0;32m1\u001b[0m\n\u001b[0;31m    gs://food-not-food.appspot.com/\u001b[0m\n\u001b[0m        ^\u001b[0m\n\u001b[0;31mSyntaxError\u001b[0m\u001b[0;31m:\u001b[0m invalid syntax\n"
          ]
        }
      ]
    },
    {
      "cell_type": "code",
      "metadata": {
        "id": "nhgEKWqrDad-"
      },
      "source": [
        ""
      ],
      "execution_count": null,
      "outputs": []
    }
  ]
}